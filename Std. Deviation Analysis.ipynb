{
 "cells": [
  {
   "cell_type": "markdown",
   "metadata": {},
   "source": [
    "# Standard Devation Analysis"
   ]
  },
  {
   "cell_type": "code",
   "execution_count": 18,
   "metadata": {},
   "outputs": [],
   "source": [
    "#Libaries \n",
    "import pandas as pd\n",
    "import numpy as np\n",
    "import matplotlib.pyplot as plt\n",
    "%matplotlib inline\n",
    "\n",
    "import warnings\n",
    "warnings.filterwarnings(\"ignore\")"
   ]
  },
  {
   "cell_type": "code",
   "execution_count": 19,
   "metadata": {},
   "outputs": [],
   "source": [
    "import yfinance as yf\n",
    "yf.pdr_override()"
   ]
  },
  {
   "cell_type": "code",
   "execution_count": 34,
   "metadata": {},
   "outputs": [
    {
     "name": "stdout",
     "output_type": "stream",
     "text": [
      "[*********************100%***********************]  1 of 1 completed\n"
     ]
    }
   ],
   "source": [
    "stock = 'BA'\n",
    "start = '2018-01-01' \n",
    "end = '2020-12-31'\n",
    "df = pdr.get_data_yahoo(stock, start, end)"
   ]
  },
  {
   "cell_type": "code",
   "execution_count": null,
   "metadata": {},
   "outputs": [],
   "source": [
    "# Analysis Data"
   ]
  },
  {
   "cell_type": "code",
   "execution_count": 35,
   "metadata": {},
   "outputs": [
    {
     "data": {
      "text/html": [
       "<div>\n",
       "<style scoped>\n",
       "    .dataframe tbody tr th:only-of-type {\n",
       "        vertical-align: middle;\n",
       "    }\n",
       "\n",
       "    .dataframe tbody tr th {\n",
       "        vertical-align: top;\n",
       "    }\n",
       "\n",
       "    .dataframe thead th {\n",
       "        text-align: right;\n",
       "    }\n",
       "</style>\n",
       "<table border=\"1\" class=\"dataframe\">\n",
       "  <thead>\n",
       "    <tr style=\"text-align: right;\">\n",
       "      <th></th>\n",
       "      <th>Open</th>\n",
       "      <th>High</th>\n",
       "      <th>Low</th>\n",
       "      <th>Close</th>\n",
       "      <th>Adj Close</th>\n",
       "      <th>Volume</th>\n",
       "    </tr>\n",
       "    <tr>\n",
       "      <th>Date</th>\n",
       "      <th></th>\n",
       "      <th></th>\n",
       "      <th></th>\n",
       "      <th></th>\n",
       "      <th></th>\n",
       "      <th></th>\n",
       "    </tr>\n",
       "  </thead>\n",
       "  <tbody>\n",
       "    <tr>\n",
       "      <th>2018-01-02</th>\n",
       "      <td>295.750000</td>\n",
       "      <td>296.989990</td>\n",
       "      <td>295.399994</td>\n",
       "      <td>296.839996</td>\n",
       "      <td>282.886383</td>\n",
       "      <td>2978900</td>\n",
       "    </tr>\n",
       "    <tr>\n",
       "      <th>2018-01-03</th>\n",
       "      <td>295.940002</td>\n",
       "      <td>298.500000</td>\n",
       "      <td>295.470001</td>\n",
       "      <td>297.799988</td>\n",
       "      <td>283.801239</td>\n",
       "      <td>3211200</td>\n",
       "    </tr>\n",
       "    <tr>\n",
       "      <th>2018-01-04</th>\n",
       "      <td>297.940002</td>\n",
       "      <td>298.420013</td>\n",
       "      <td>295.470001</td>\n",
       "      <td>296.670013</td>\n",
       "      <td>282.724396</td>\n",
       "      <td>4171700</td>\n",
       "    </tr>\n",
       "    <tr>\n",
       "      <th>2018-01-05</th>\n",
       "      <td>296.769989</td>\n",
       "      <td>308.890015</td>\n",
       "      <td>296.720001</td>\n",
       "      <td>308.839996</td>\n",
       "      <td>294.322296</td>\n",
       "      <td>6177700</td>\n",
       "    </tr>\n",
       "    <tr>\n",
       "      <th>2018-01-08</th>\n",
       "      <td>308.660004</td>\n",
       "      <td>310.859985</td>\n",
       "      <td>305.750000</td>\n",
       "      <td>310.149994</td>\n",
       "      <td>295.570740</td>\n",
       "      <td>4124900</td>\n",
       "    </tr>\n",
       "  </tbody>\n",
       "</table>\n",
       "</div>"
      ],
      "text/plain": [
       "                  Open        High         Low       Close   Adj Close  \\\n",
       "Date                                                                     \n",
       "2018-01-02  295.750000  296.989990  295.399994  296.839996  282.886383   \n",
       "2018-01-03  295.940002  298.500000  295.470001  297.799988  283.801239   \n",
       "2018-01-04  297.940002  298.420013  295.470001  296.670013  282.724396   \n",
       "2018-01-05  296.769989  308.890015  296.720001  308.839996  294.322296   \n",
       "2018-01-08  308.660004  310.859985  305.750000  310.149994  295.570740   \n",
       "\n",
       "             Volume  \n",
       "Date                 \n",
       "2018-01-02  2978900  \n",
       "2018-01-03  3211200  \n",
       "2018-01-04  4171700  \n",
       "2018-01-05  6177700  \n",
       "2018-01-08  4124900  "
      ]
     },
     "execution_count": 35,
     "metadata": {},
     "output_type": "execute_result"
    }
   ],
   "source": [
    "df.head() # the first 5 rows"
   ]
  },
  {
   "cell_type": "code",
   "execution_count": 36,
   "metadata": {},
   "outputs": [
    {
     "data": {
      "text/html": [
       "<div>\n",
       "<style scoped>\n",
       "    .dataframe tbody tr th:only-of-type {\n",
       "        vertical-align: middle;\n",
       "    }\n",
       "\n",
       "    .dataframe tbody tr th {\n",
       "        vertical-align: top;\n",
       "    }\n",
       "\n",
       "    .dataframe thead th {\n",
       "        text-align: right;\n",
       "    }\n",
       "</style>\n",
       "<table border=\"1\" class=\"dataframe\">\n",
       "  <thead>\n",
       "    <tr style=\"text-align: right;\">\n",
       "      <th></th>\n",
       "      <th>Open</th>\n",
       "      <th>High</th>\n",
       "      <th>Low</th>\n",
       "      <th>Close</th>\n",
       "      <th>Adj Close</th>\n",
       "      <th>Volume</th>\n",
       "    </tr>\n",
       "    <tr>\n",
       "      <th>Date</th>\n",
       "      <th></th>\n",
       "      <th></th>\n",
       "      <th></th>\n",
       "      <th></th>\n",
       "      <th></th>\n",
       "      <th></th>\n",
       "    </tr>\n",
       "  </thead>\n",
       "  <tbody>\n",
       "    <tr>\n",
       "      <th>2020-12-23</th>\n",
       "      <td>219.550003</td>\n",
       "      <td>224.399994</td>\n",
       "      <td>219.320007</td>\n",
       "      <td>219.690002</td>\n",
       "      <td>219.690002</td>\n",
       "      <td>10869000</td>\n",
       "    </tr>\n",
       "    <tr>\n",
       "      <th>2020-12-24</th>\n",
       "      <td>219.619995</td>\n",
       "      <td>219.880005</td>\n",
       "      <td>216.050003</td>\n",
       "      <td>217.149994</td>\n",
       "      <td>217.149994</td>\n",
       "      <td>6398500</td>\n",
       "    </tr>\n",
       "    <tr>\n",
       "      <th>2020-12-28</th>\n",
       "      <td>218.190002</td>\n",
       "      <td>219.199997</td>\n",
       "      <td>215.160004</td>\n",
       "      <td>216.089996</td>\n",
       "      <td>216.089996</td>\n",
       "      <td>9090600</td>\n",
       "    </tr>\n",
       "    <tr>\n",
       "      <th>2020-12-29</th>\n",
       "      <td>218.300003</td>\n",
       "      <td>221.679993</td>\n",
       "      <td>215.399994</td>\n",
       "      <td>216.250000</td>\n",
       "      <td>216.250000</td>\n",
       "      <td>14593800</td>\n",
       "    </tr>\n",
       "    <tr>\n",
       "      <th>2020-12-30</th>\n",
       "      <td>216.360001</td>\n",
       "      <td>218.550003</td>\n",
       "      <td>214.369995</td>\n",
       "      <td>216.669998</td>\n",
       "      <td>216.669998</td>\n",
       "      <td>10812600</td>\n",
       "    </tr>\n",
       "  </tbody>\n",
       "</table>\n",
       "</div>"
      ],
      "text/plain": [
       "                  Open        High         Low       Close   Adj Close  \\\n",
       "Date                                                                     \n",
       "2020-12-23  219.550003  224.399994  219.320007  219.690002  219.690002   \n",
       "2020-12-24  219.619995  219.880005  216.050003  217.149994  217.149994   \n",
       "2020-12-28  218.190002  219.199997  215.160004  216.089996  216.089996   \n",
       "2020-12-29  218.300003  221.679993  215.399994  216.250000  216.250000   \n",
       "2020-12-30  216.360001  218.550003  214.369995  216.669998  216.669998   \n",
       "\n",
       "              Volume  \n",
       "Date                  \n",
       "2020-12-23  10869000  \n",
       "2020-12-24   6398500  \n",
       "2020-12-28   9090600  \n",
       "2020-12-29  14593800  \n",
       "2020-12-30  10812600  "
      ]
     },
     "execution_count": 36,
     "metadata": {},
     "output_type": "execute_result"
    }
   ],
   "source": [
    "df.tail() # the last 5 rows"
   ]
  },
  {
   "cell_type": "code",
   "execution_count": 37,
   "metadata": {},
   "outputs": [
    {
     "data": {
      "text/plain": [
       "(755, 6)"
      ]
     },
     "execution_count": 37,
     "metadata": {},
     "output_type": "execute_result"
    }
   ],
   "source": [
    "df.shape # (rows, columns)"
   ]
  },
  {
   "cell_type": "code",
   "execution_count": 38,
   "metadata": {},
   "outputs": [
    {
     "data": {
      "text/plain": [
       "Index(['Open', 'High', 'Low', 'Close', 'Adj Close', 'Volume'], dtype='object')"
      ]
     },
     "execution_count": 38,
     "metadata": {},
     "output_type": "execute_result"
    }
   ],
   "source": [
    "df.columns # Shows names of columns"
   ]
  },
  {
   "cell_type": "code",
   "execution_count": 10,
   "metadata": {},
   "outputs": [
    {
     "data": {
      "text/plain": [
       "High         float64\n",
       "Low          float64\n",
       "Open         float64\n",
       "Close        float64\n",
       "Volume       float64\n",
       "Adj Close    float64\n",
       "dtype: object"
      ]
     },
     "execution_count": 10,
     "metadata": {},
     "output_type": "execute_result"
    }
   ],
   "source": [
    "df.dtypes # Shows data types"
   ]
  },
  {
   "cell_type": "code",
   "execution_count": 39,
   "metadata": {},
   "outputs": [
    {
     "name": "stdout",
     "output_type": "stream",
     "text": [
      "<class 'pandas.core.frame.DataFrame'>\n",
      "DatetimeIndex: 755 entries, 2018-01-02 to 2020-12-30\n",
      "Data columns (total 6 columns):\n",
      " #   Column     Non-Null Count  Dtype  \n",
      "---  ------     --------------  -----  \n",
      " 0   Open       755 non-null    float64\n",
      " 1   High       755 non-null    float64\n",
      " 2   Low        755 non-null    float64\n",
      " 3   Close      755 non-null    float64\n",
      " 4   Adj Close  755 non-null    float64\n",
      " 5   Volume     755 non-null    int64  \n",
      "dtypes: float64(5), int64(1)\n",
      "memory usage: 41.3 KB\n"
     ]
    }
   ],
   "source": [
    "df.info() # Shows information about DataFrame"
   ]
  },
  {
   "cell_type": "code",
   "execution_count": 27,
   "metadata": {},
   "outputs": [
    {
     "data": {
      "text/html": [
       "<div>\n",
       "<style scoped>\n",
       "    .dataframe tbody tr th:only-of-type {\n",
       "        vertical-align: middle;\n",
       "    }\n",
       "\n",
       "    .dataframe tbody tr th {\n",
       "        vertical-align: top;\n",
       "    }\n",
       "\n",
       "    .dataframe thead th {\n",
       "        text-align: right;\n",
       "    }\n",
       "</style>\n",
       "<table border=\"1\" class=\"dataframe\">\n",
       "  <thead>\n",
       "    <tr style=\"text-align: right;\">\n",
       "      <th></th>\n",
       "      <th>Open</th>\n",
       "      <th>High</th>\n",
       "      <th>Low</th>\n",
       "      <th>Close</th>\n",
       "      <th>Adj Close</th>\n",
       "      <th>Volume</th>\n",
       "    </tr>\n",
       "  </thead>\n",
       "  <tbody>\n",
       "    <tr>\n",
       "      <th>count</th>\n",
       "      <td>503.000000</td>\n",
       "      <td>503.000000</td>\n",
       "      <td>503.000000</td>\n",
       "      <td>503.000000</td>\n",
       "      <td>503.000000</td>\n",
       "      <td>5.030000e+02</td>\n",
       "    </tr>\n",
       "    <tr>\n",
       "      <th>mean</th>\n",
       "      <td>354.812127</td>\n",
       "      <td>358.812347</td>\n",
       "      <td>350.640179</td>\n",
       "      <td>354.881113</td>\n",
       "      <td>345.356760</td>\n",
       "      <td>4.917473e+06</td>\n",
       "    </tr>\n",
       "    <tr>\n",
       "      <th>std</th>\n",
       "      <td>23.457377</td>\n",
       "      <td>23.212859</td>\n",
       "      <td>23.748332</td>\n",
       "      <td>23.485997</td>\n",
       "      <td>24.374717</td>\n",
       "      <td>3.457729e+06</td>\n",
       "    </tr>\n",
       "    <tr>\n",
       "      <th>min</th>\n",
       "      <td>295.750000</td>\n",
       "      <td>296.989990</td>\n",
       "      <td>292.470001</td>\n",
       "      <td>294.160004</td>\n",
       "      <td>282.724396</td>\n",
       "      <td>1.390900e+06</td>\n",
       "    </tr>\n",
       "    <tr>\n",
       "      <th>25%</th>\n",
       "      <td>339.684998</td>\n",
       "      <td>343.300003</td>\n",
       "      <td>335.329987</td>\n",
       "      <td>339.694992</td>\n",
       "      <td>328.345978</td>\n",
       "      <td>3.061200e+06</td>\n",
       "    </tr>\n",
       "    <tr>\n",
       "      <th>50%</th>\n",
       "      <td>353.040009</td>\n",
       "      <td>356.440002</td>\n",
       "      <td>350.470001</td>\n",
       "      <td>353.350006</td>\n",
       "      <td>343.108063</td>\n",
       "      <td>4.124000e+06</td>\n",
       "    </tr>\n",
       "    <tr>\n",
       "      <th>75%</th>\n",
       "      <td>368.514999</td>\n",
       "      <td>371.570007</td>\n",
       "      <td>364.264999</td>\n",
       "      <td>368.389999</td>\n",
       "      <td>360.154099</td>\n",
       "      <td>5.463100e+06</td>\n",
       "    </tr>\n",
       "    <tr>\n",
       "      <th>max</th>\n",
       "      <td>446.010010</td>\n",
       "      <td>446.010010</td>\n",
       "      <td>440.190002</td>\n",
       "      <td>440.619995</td>\n",
       "      <td>430.299988</td>\n",
       "      <td>3.692260e+07</td>\n",
       "    </tr>\n",
       "  </tbody>\n",
       "</table>\n",
       "</div>"
      ],
      "text/plain": [
       "             Open        High         Low       Close   Adj Close  \\\n",
       "count  503.000000  503.000000  503.000000  503.000000  503.000000   \n",
       "mean   354.812127  358.812347  350.640179  354.881113  345.356760   \n",
       "std     23.457377   23.212859   23.748332   23.485997   24.374717   \n",
       "min    295.750000  296.989990  292.470001  294.160004  282.724396   \n",
       "25%    339.684998  343.300003  335.329987  339.694992  328.345978   \n",
       "50%    353.040009  356.440002  350.470001  353.350006  343.108063   \n",
       "75%    368.514999  371.570007  364.264999  368.389999  360.154099   \n",
       "max    446.010010  446.010010  440.190002  440.619995  430.299988   \n",
       "\n",
       "             Volume  \n",
       "count  5.030000e+02  \n",
       "mean   4.917473e+06  \n",
       "std    3.457729e+06  \n",
       "min    1.390900e+06  \n",
       "25%    3.061200e+06  \n",
       "50%    4.124000e+06  \n",
       "75%    5.463100e+06  \n",
       "max    3.692260e+07  "
      ]
     },
     "execution_count": 27,
     "metadata": {},
     "output_type": "execute_result"
    }
   ],
   "source": [
    "df.describe() # Shows BA summary statistics based on stock data(2018-2020)"
   ]
  },
  {
   "cell_type": "markdown",
   "metadata": {},
   "source": [
    "# Understand the Data based on Statistics\n",
    "\n",
    "We will be using \"Adj. Closing\" price to find the minimum, maximum, average and standard deviation prices. The reason we are using \"Adj. Closing\" because is mostly use for historical returns. Also, the Adjusting Prices is change where the stock was accounts for the dividend and splits. However, the \"Closing\" price was not including with dividend and splits."
   ]
  },
  {
   "cell_type": "code",
   "execution_count": 30,
   "metadata": {},
   "outputs": [
    {
     "data": {
      "text/plain": [
       "282.7243957519531"
      ]
     },
     "execution_count": 30,
     "metadata": {},
     "output_type": "execute_result"
    }
   ],
   "source": [
    "# Use only Adj. Closing\n",
    "# Find the minimum\n",
    "df['Adj Close'].min()"
   ]
  },
  {
   "cell_type": "code",
   "execution_count": 31,
   "metadata": {},
   "outputs": [
    {
     "data": {
      "text/plain": [
       "430.29998779296875"
      ]
     },
     "execution_count": 31,
     "metadata": {},
     "output_type": "execute_result"
    }
   ],
   "source": [
    "# Find the maximum\n",
    "df['Adj Close'].max()"
   ]
  },
  {
   "cell_type": "code",
   "execution_count": 32,
   "metadata": {},
   "outputs": [
    {
     "data": {
      "text/plain": [
       "345.3567604383465"
      ]
     },
     "execution_count": 32,
     "metadata": {},
     "output_type": "execute_result"
    }
   ],
   "source": [
    "# Find the average\n",
    "df['Adj Close'].mean()"
   ]
  },
  {
   "cell_type": "code",
   "execution_count": 33,
   "metadata": {},
   "outputs": [
    {
     "data": {
      "text/plain": [
       "24.374716643951047"
      ]
     },
     "execution_count": 33,
     "metadata": {},
     "output_type": "execute_result"
    }
   ],
   "source": [
    "# Find the standard deviation\n",
    "df['Adj Close'].std()"
   ]
  }
 ],
 "metadata": {
  "kernelspec": {
   "display_name": "Python 3",
   "language": "python",
   "name": "python3"
  },
  "language_info": {
   "codemirror_mode": {
    "name": "ipython",
    "version": 3
   },
   "file_extension": ".py",
   "mimetype": "text/x-python",
   "name": "python",
   "nbconvert_exporter": "python",
   "pygments_lexer": "ipython3",
   "version": "3.6.10"
  }
 },
 "nbformat": 4,
 "nbformat_minor": 4
}
