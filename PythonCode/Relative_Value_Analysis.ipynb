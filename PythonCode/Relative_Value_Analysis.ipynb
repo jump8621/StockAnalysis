{
 "cells": [
  {
   "cell_type": "markdown",
   "metadata": {},
   "source": [
    "# Stock Portfolio Analysis of Aerospace Industry"
   ]
  },
  {
   "cell_type": "code",
   "execution_count": 3,
   "metadata": {},
   "outputs": [],
   "source": [
    "import pandas as pd\n",
    "import numpy as np\n",
    "import matplotlib.pyplot as plt\n",
    "plt.style.use('seaborn-muted')\n",
    "import pandas_datareader.data as web\n",
    "from datetime import datetime as dt\n",
    "import statsmodels.api as sm"
   ]
  },
  {
   "cell_type": "code",
   "execution_count": 4,
   "metadata": {},
   "outputs": [],
   "source": [
    "import yfinance as yf"
   ]
  },
  {
   "cell_type": "markdown",
   "metadata": {},
   "source": [
    "# Boeing Analysis"
   ]
  },
  {
   "cell_type": "code",
   "execution_count": 5,
   "metadata": {},
   "outputs": [
    {
     "name": "stdout",
     "output_type": "stream",
     "text": [
      "[*********************100%***********************]  1 of 1 completed\n",
      "[*********************100%***********************]  1 of 1 completed\n"
     ]
    },
    {
     "data": {
      "text/html": [
       "<div>\n",
       "<style scoped>\n",
       "    .dataframe tbody tr th:only-of-type {\n",
       "        vertical-align: middle;\n",
       "    }\n",
       "\n",
       "    .dataframe tbody tr th {\n",
       "        vertical-align: top;\n",
       "    }\n",
       "\n",
       "    .dataframe thead th {\n",
       "        text-align: right;\n",
       "    }\n",
       "</style>\n",
       "<table border=\"1\" class=\"dataframe\">\n",
       "  <thead>\n",
       "    <tr style=\"text-align: right;\">\n",
       "      <th></th>\n",
       "      <th>Open</th>\n",
       "      <th>High</th>\n",
       "      <th>Low</th>\n",
       "      <th>Close</th>\n",
       "      <th>Adj Close</th>\n",
       "      <th>Volume</th>\n",
       "    </tr>\n",
       "    <tr>\n",
       "      <th>Date</th>\n",
       "      <th></th>\n",
       "      <th></th>\n",
       "      <th></th>\n",
       "      <th></th>\n",
       "      <th></th>\n",
       "      <th></th>\n",
       "    </tr>\n",
       "  </thead>\n",
       "  <tbody>\n",
       "    <tr>\n",
       "      <th>2010-01-04</th>\n",
       "      <td>55.720001</td>\n",
       "      <td>56.389999</td>\n",
       "      <td>54.799999</td>\n",
       "      <td>56.180000</td>\n",
       "      <td>43.441975</td>\n",
       "      <td>6186700</td>\n",
       "    </tr>\n",
       "    <tr>\n",
       "      <th>2010-01-05</th>\n",
       "      <td>56.250000</td>\n",
       "      <td>58.279999</td>\n",
       "      <td>56.000000</td>\n",
       "      <td>58.020000</td>\n",
       "      <td>44.864773</td>\n",
       "      <td>8867800</td>\n",
       "    </tr>\n",
       "    <tr>\n",
       "      <th>2010-01-06</th>\n",
       "      <td>58.230000</td>\n",
       "      <td>59.990002</td>\n",
       "      <td>57.880001</td>\n",
       "      <td>59.779999</td>\n",
       "      <td>46.225727</td>\n",
       "      <td>8836500</td>\n",
       "    </tr>\n",
       "    <tr>\n",
       "      <th>2010-01-07</th>\n",
       "      <td>59.509998</td>\n",
       "      <td>62.310001</td>\n",
       "      <td>59.020000</td>\n",
       "      <td>62.200001</td>\n",
       "      <td>48.097031</td>\n",
       "      <td>14379100</td>\n",
       "    </tr>\n",
       "    <tr>\n",
       "      <th>2010-01-08</th>\n",
       "      <td>61.540001</td>\n",
       "      <td>61.779999</td>\n",
       "      <td>60.860001</td>\n",
       "      <td>61.599998</td>\n",
       "      <td>47.633064</td>\n",
       "      <td>7146600</td>\n",
       "    </tr>\n",
       "  </tbody>\n",
       "</table>\n",
       "</div>"
      ],
      "text/plain": [
       "                 Open       High        Low      Close  Adj Close    Volume\n",
       "Date                                                                       \n",
       "2010-01-04  55.720001  56.389999  54.799999  56.180000  43.441975   6186700\n",
       "2010-01-05  56.250000  58.279999  56.000000  58.020000  44.864773   8867800\n",
       "2010-01-06  58.230000  59.990002  57.880001  59.779999  46.225727   8836500\n",
       "2010-01-07  59.509998  62.310001  59.020000  62.200001  48.097031  14379100\n",
       "2010-01-08  61.540001  61.779999  60.860001  61.599998  47.633064   7146600"
      ]
     },
     "execution_count": 5,
     "metadata": {},
     "output_type": "execute_result"
    }
   ],
   "source": [
    "# input\n",
    "symbol = 'BA'\n",
    "start = '2010-01-02'\n",
    "end = '2020-12-31'\n",
    "\n",
    "# Read data \n",
    "data = yf.download(symbol,start,end)\n",
    "\n",
    "# Read data \n",
    "dataset = yf.download(symbol,start,end)\n",
    "\n",
    "# View Data\n",
    "dataset.head()\n",
    "\n",
    "# View Columns\n",
    "data.head()"
   ]
  },
  {
   "cell_type": "code",
   "execution_count": 6,
   "metadata": {},
   "outputs": [
    {
     "data": {
      "text/html": [
       "<div>\n",
       "<style scoped>\n",
       "    .dataframe tbody tr th:only-of-type {\n",
       "        vertical-align: middle;\n",
       "    }\n",
       "\n",
       "    .dataframe tbody tr th {\n",
       "        vertical-align: top;\n",
       "    }\n",
       "\n",
       "    .dataframe thead th {\n",
       "        text-align: right;\n",
       "    }\n",
       "</style>\n",
       "<table border=\"1\" class=\"dataframe\">\n",
       "  <thead>\n",
       "    <tr style=\"text-align: right;\">\n",
       "      <th></th>\n",
       "      <th>Open</th>\n",
       "      <th>High</th>\n",
       "      <th>Low</th>\n",
       "      <th>Close</th>\n",
       "      <th>Adj Close</th>\n",
       "      <th>Volume</th>\n",
       "    </tr>\n",
       "    <tr>\n",
       "      <th>Date</th>\n",
       "      <th></th>\n",
       "      <th></th>\n",
       "      <th></th>\n",
       "      <th></th>\n",
       "      <th></th>\n",
       "      <th></th>\n",
       "    </tr>\n",
       "  </thead>\n",
       "  <tbody>\n",
       "    <tr>\n",
       "      <th>2020-12-23</th>\n",
       "      <td>219.550003</td>\n",
       "      <td>224.399994</td>\n",
       "      <td>219.320007</td>\n",
       "      <td>219.690002</td>\n",
       "      <td>219.690002</td>\n",
       "      <td>10869000</td>\n",
       "    </tr>\n",
       "    <tr>\n",
       "      <th>2020-12-24</th>\n",
       "      <td>219.619995</td>\n",
       "      <td>219.880005</td>\n",
       "      <td>216.050003</td>\n",
       "      <td>217.149994</td>\n",
       "      <td>217.149994</td>\n",
       "      <td>6398500</td>\n",
       "    </tr>\n",
       "    <tr>\n",
       "      <th>2020-12-28</th>\n",
       "      <td>218.190002</td>\n",
       "      <td>219.199997</td>\n",
       "      <td>215.160004</td>\n",
       "      <td>216.089996</td>\n",
       "      <td>216.089996</td>\n",
       "      <td>9090600</td>\n",
       "    </tr>\n",
       "    <tr>\n",
       "      <th>2020-12-29</th>\n",
       "      <td>218.300003</td>\n",
       "      <td>221.679993</td>\n",
       "      <td>215.399994</td>\n",
       "      <td>216.250000</td>\n",
       "      <td>216.250000</td>\n",
       "      <td>14593800</td>\n",
       "    </tr>\n",
       "    <tr>\n",
       "      <th>2020-12-30</th>\n",
       "      <td>216.360001</td>\n",
       "      <td>218.550003</td>\n",
       "      <td>214.369995</td>\n",
       "      <td>216.669998</td>\n",
       "      <td>216.669998</td>\n",
       "      <td>10812600</td>\n",
       "    </tr>\n",
       "  </tbody>\n",
       "</table>\n",
       "</div>"
      ],
      "text/plain": [
       "                  Open        High         Low       Close   Adj Close  \\\n",
       "Date                                                                     \n",
       "2020-12-23  219.550003  224.399994  219.320007  219.690002  219.690002   \n",
       "2020-12-24  219.619995  219.880005  216.050003  217.149994  217.149994   \n",
       "2020-12-28  218.190002  219.199997  215.160004  216.089996  216.089996   \n",
       "2020-12-29  218.300003  221.679993  215.399994  216.250000  216.250000   \n",
       "2020-12-30  216.360001  218.550003  214.369995  216.669998  216.669998   \n",
       "\n",
       "              Volume  \n",
       "Date                  \n",
       "2020-12-23  10869000  \n",
       "2020-12-24   6398500  \n",
       "2020-12-28   9090600  \n",
       "2020-12-29  14593800  \n",
       "2020-12-30  10812600  "
      ]
     },
     "execution_count": 6,
     "metadata": {},
     "output_type": "execute_result"
    }
   ],
   "source": [
    "dataset.tail()"
   ]
  },
  {
   "cell_type": "code",
   "execution_count": 34,
   "metadata": {},
   "outputs": [
    {
     "data": {
      "image/png": "[encoded data removed]",
      "text/plain": [
       "<Figure size 1600x800 with 1 Axes>"
      ]
     },
     "metadata": {},
     "output_type": "display_data"
    }
   ],
   "source": [
    "plt.figure(figsize=(16,8))\n",
    "plt.plot(dataset['Adj Close'])\n",
    "plt.title('BA Closing Price Chart')\n",
    "plt.xlabel('Date')\n",
    "plt.ylabel('Price')\n",
    "plt.grid(True)\n",
    "plt.savefig('stanalysis\\static\\BA_Closing_Price_Chart.png')\n",
    "plt.show()"
   ]
  },
  {
   "cell_type": "code",
   "execution_count": 8,
   "metadata": {},
   "outputs": [],
   "source": [
    "import numpy as np\n",
    "import matplotlib.pyplot as plt; plt.rcdefaults()\n",
    "import pandas as pd\n",
    "\n",
    "import warnings\n",
    "warnings.filterwarnings(\"ignore\")\n"
   ]
  },
  {
   "cell_type": "code",
   "execution_count": 9,
   "metadata": {},
   "outputs": [
    {
     "name": "stdout",
     "output_type": "stream",
     "text": [
      "[*********************100%***********************]  1 of 1 completed\n"
     ]
    },
    {
     "data": {
      "text/html": [
       "<div>\n",
       "<style scoped>\n",
       "    .dataframe tbody tr th:only-of-type {\n",
       "        vertical-align: middle;\n",
       "    }\n",
       "\n",
       "    .dataframe tbody tr th {\n",
       "        vertical-align: top;\n",
       "    }\n",
       "\n",
       "    .dataframe thead th {\n",
       "        text-align: right;\n",
       "    }\n",
       "</style>\n",
       "<table border=\"1\" class=\"dataframe\">\n",
       "  <thead>\n",
       "    <tr style=\"text-align: right;\">\n",
       "      <th></th>\n",
       "      <th>Open</th>\n",
       "      <th>High</th>\n",
       "      <th>Low</th>\n",
       "      <th>Close</th>\n",
       "      <th>Adj Close</th>\n",
       "      <th>Volume</th>\n",
       "    </tr>\n",
       "    <tr>\n",
       "      <th>Date</th>\n",
       "      <th></th>\n",
       "      <th></th>\n",
       "      <th></th>\n",
       "      <th></th>\n",
       "      <th></th>\n",
       "      <th></th>\n",
       "    </tr>\n",
       "  </thead>\n",
       "  <tbody>\n",
       "    <tr>\n",
       "      <th>2010-01-04</th>\n",
       "      <td>55.720001</td>\n",
       "      <td>56.389999</td>\n",
       "      <td>54.799999</td>\n",
       "      <td>56.180000</td>\n",
       "      <td>43.441975</td>\n",
       "      <td>6186700</td>\n",
       "    </tr>\n",
       "    <tr>\n",
       "      <th>2010-01-05</th>\n",
       "      <td>56.250000</td>\n",
       "      <td>58.279999</td>\n",
       "      <td>56.000000</td>\n",
       "      <td>58.020000</td>\n",
       "      <td>44.864773</td>\n",
       "      <td>8867800</td>\n",
       "    </tr>\n",
       "    <tr>\n",
       "      <th>2010-01-06</th>\n",
       "      <td>58.230000</td>\n",
       "      <td>59.990002</td>\n",
       "      <td>57.880001</td>\n",
       "      <td>59.779999</td>\n",
       "      <td>46.225727</td>\n",
       "      <td>8836500</td>\n",
       "    </tr>\n",
       "    <tr>\n",
       "      <th>2010-01-07</th>\n",
       "      <td>59.509998</td>\n",
       "      <td>62.310001</td>\n",
       "      <td>59.020000</td>\n",
       "      <td>62.200001</td>\n",
       "      <td>48.097031</td>\n",
       "      <td>14379100</td>\n",
       "    </tr>\n",
       "    <tr>\n",
       "      <th>2010-01-08</th>\n",
       "      <td>61.540001</td>\n",
       "      <td>61.779999</td>\n",
       "      <td>60.860001</td>\n",
       "      <td>61.599998</td>\n",
       "      <td>47.633064</td>\n",
       "      <td>7146600</td>\n",
       "    </tr>\n",
       "  </tbody>\n",
       "</table>\n",
       "</div>"
      ],
      "text/plain": [
       "                 Open       High        Low      Close  Adj Close    Volume\n",
       "Date                                                                       \n",
       "2010-01-04  55.720001  56.389999  54.799999  56.180000  43.441975   6186700\n",
       "2010-01-05  56.250000  58.279999  56.000000  58.020000  44.864773   8867800\n",
       "2010-01-06  58.230000  59.990002  57.880001  59.779999  46.225727   8836500\n",
       "2010-01-07  59.509998  62.310001  59.020000  62.200001  48.097031  14379100\n",
       "2010-01-08  61.540001  61.779999  60.860001  61.599998  47.633064   7146600"
      ]
     },
     "execution_count": 9,
     "metadata": {},
     "output_type": "execute_result"
    }
   ],
   "source": [
    "# input\n",
    "symbol = 'BA'\n",
    "start = '2010-01-01'\n",
    "end = '2020-12-31'\n",
    "\n",
    "# Read data \n",
    "dataset = yf.download(symbol,start,end)\n",
    "\n",
    "# View Data\n",
    "dataset.head()"
   ]
  },
  {
   "cell_type": "markdown",
   "metadata": {},
   "source": [
    "# BA Monthly Returns\n",
    "(last ten years)"
   ]
  },
  {
   "cell_type": "code",
   "execution_count": 10,
   "metadata": {},
   "outputs": [
    {
     "data": {
      "text/html": [
       "<div>\n",
       "<style scoped>\n",
       "    .dataframe tbody tr th:only-of-type {\n",
       "        vertical-align: middle;\n",
       "    }\n",
       "\n",
       "    .dataframe tbody tr th {\n",
       "        vertical-align: top;\n",
       "    }\n",
       "\n",
       "    .dataframe thead th {\n",
       "        text-align: right;\n",
       "    }\n",
       "</style>\n",
       "<table border=\"1\" class=\"dataframe\">\n",
       "  <thead>\n",
       "    <tr style=\"text-align: right;\">\n",
       "      <th></th>\n",
       "      <th>Open</th>\n",
       "      <th>High</th>\n",
       "      <th>Low</th>\n",
       "      <th>Close</th>\n",
       "      <th>Adj Close</th>\n",
       "      <th>Volume</th>\n",
       "      <th>Returns</th>\n",
       "    </tr>\n",
       "    <tr>\n",
       "      <th>Date</th>\n",
       "      <th></th>\n",
       "      <th></th>\n",
       "      <th></th>\n",
       "      <th></th>\n",
       "      <th></th>\n",
       "      <th></th>\n",
       "      <th></th>\n",
       "    </tr>\n",
       "  </thead>\n",
       "  <tbody>\n",
       "    <tr>\n",
       "      <th>2010-01-29</th>\n",
       "      <td>62.799999</td>\n",
       "      <td>63.400002</td>\n",
       "      <td>60.320000</td>\n",
       "      <td>60.599998</td>\n",
       "      <td>46.859806</td>\n",
       "      <td>8725400.0</td>\n",
       "      <td>-0.031330</td>\n",
       "    </tr>\n",
       "    <tr>\n",
       "      <th>2010-02-26</th>\n",
       "      <td>63.090000</td>\n",
       "      <td>63.880001</td>\n",
       "      <td>63.029999</td>\n",
       "      <td>63.160000</td>\n",
       "      <td>49.172794</td>\n",
       "      <td>4416000.0</td>\n",
       "      <td>0.004613</td>\n",
       "    </tr>\n",
       "    <tr>\n",
       "      <th>2010-03-31</th>\n",
       "      <td>72.919998</td>\n",
       "      <td>73.059998</td>\n",
       "      <td>71.949997</td>\n",
       "      <td>72.610001</td>\n",
       "      <td>56.530022</td>\n",
       "      <td>5884600.0</td>\n",
       "      <td>-0.012512</td>\n",
       "    </tr>\n",
       "    <tr>\n",
       "      <th>2010-04-30</th>\n",
       "      <td>73.800003</td>\n",
       "      <td>74.480003</td>\n",
       "      <td>72.260002</td>\n",
       "      <td>72.430000</td>\n",
       "      <td>56.389893</td>\n",
       "      <td>5600900.0</td>\n",
       "      <td>-0.018431</td>\n",
       "    </tr>\n",
       "    <tr>\n",
       "      <th>2010-05-31</th>\n",
       "      <td>NaN</td>\n",
       "      <td>NaN</td>\n",
       "      <td>NaN</td>\n",
       "      <td>NaN</td>\n",
       "      <td>NaN</td>\n",
       "      <td>NaN</td>\n",
       "      <td>NaN</td>\n",
       "    </tr>\n",
       "  </tbody>\n",
       "</table>\n",
       "</div>"
      ],
      "text/plain": [
       "                 Open       High        Low      Close  Adj Close     Volume  \\\n",
       "Date                                                                           \n",
       "2010-01-29  62.799999  63.400002  60.320000  60.599998  46.859806  8725400.0   \n",
       "2010-02-26  63.090000  63.880001  63.029999  63.160000  49.172794  4416000.0   \n",
       "2010-03-31  72.919998  73.059998  71.949997  72.610001  56.530022  5884600.0   \n",
       "2010-04-30  73.800003  74.480003  72.260002  72.430000  56.389893  5600900.0   \n",
       "2010-05-31        NaN        NaN        NaN        NaN        NaN        NaN   \n",
       "\n",
       "             Returns  \n",
       "Date                  \n",
       "2010-01-29 -0.031330  \n",
       "2010-02-26  0.004613  \n",
       "2010-03-31 -0.012512  \n",
       "2010-04-30 -0.018431  \n",
       "2010-05-31       NaN  "
      ]
     },
     "execution_count": 10,
     "metadata": {},
     "output_type": "execute_result"
    }
   ],
   "source": [
    "monthly = dataset.asfreq('BM')\n",
    "monthly['Returns'] = dataset['Adj Close'].pct_change().dropna()\n",
    "monthly.head()"
   ]
  },
  {
   "cell_type": "code",
   "execution_count": 11,
   "metadata": {},
   "outputs": [],
   "source": [
    "monthly['Month_Name'] = monthly.index.strftime(\"%b\")\n",
    "monthly['Month_Name_Year'] = monthly.index.strftime(\"%b-%Y\")"
   ]
  },
  {
   "cell_type": "code",
   "execution_count": 12,
   "metadata": {},
   "outputs": [
    {
     "data": {
      "text/html": [
       "<div>\n",
       "<style scoped>\n",
       "    .dataframe tbody tr th:only-of-type {\n",
       "        vertical-align: middle;\n",
       "    }\n",
       "\n",
       "    .dataframe tbody tr th {\n",
       "        vertical-align: top;\n",
       "    }\n",
       "\n",
       "    .dataframe thead th {\n",
       "        text-align: right;\n",
       "    }\n",
       "</style>\n",
       "<table border=\"1\" class=\"dataframe\">\n",
       "  <thead>\n",
       "    <tr style=\"text-align: right;\">\n",
       "      <th></th>\n",
       "      <th>Open</th>\n",
       "      <th>High</th>\n",
       "      <th>Low</th>\n",
       "      <th>Close</th>\n",
       "      <th>Adj Close</th>\n",
       "      <th>Volume</th>\n",
       "      <th>Returns</th>\n",
       "    </tr>\n",
       "    <tr>\n",
       "      <th>Date</th>\n",
       "      <th></th>\n",
       "      <th></th>\n",
       "      <th></th>\n",
       "      <th></th>\n",
       "      <th></th>\n",
       "      <th></th>\n",
       "      <th></th>\n",
       "    </tr>\n",
       "  </thead>\n",
       "  <tbody>\n",
       "    <tr>\n",
       "      <th>2010-01-29</th>\n",
       "      <td>62.799999</td>\n",
       "      <td>63.400002</td>\n",
       "      <td>60.320000</td>\n",
       "      <td>60.599998</td>\n",
       "      <td>46.859806</td>\n",
       "      <td>8725400.0</td>\n",
       "      <td>-0.031330</td>\n",
       "    </tr>\n",
       "    <tr>\n",
       "      <th>2010-02-26</th>\n",
       "      <td>63.090000</td>\n",
       "      <td>63.880001</td>\n",
       "      <td>63.029999</td>\n",
       "      <td>63.160000</td>\n",
       "      <td>49.172794</td>\n",
       "      <td>4416000.0</td>\n",
       "      <td>0.004613</td>\n",
       "    </tr>\n",
       "    <tr>\n",
       "      <th>2010-03-31</th>\n",
       "      <td>72.919998</td>\n",
       "      <td>73.059998</td>\n",
       "      <td>71.949997</td>\n",
       "      <td>72.610001</td>\n",
       "      <td>56.530022</td>\n",
       "      <td>5884600.0</td>\n",
       "      <td>-0.012512</td>\n",
       "    </tr>\n",
       "    <tr>\n",
       "      <th>2010-04-30</th>\n",
       "      <td>73.800003</td>\n",
       "      <td>74.480003</td>\n",
       "      <td>72.260002</td>\n",
       "      <td>72.430000</td>\n",
       "      <td>56.389893</td>\n",
       "      <td>5600900.0</td>\n",
       "      <td>-0.018431</td>\n",
       "    </tr>\n",
       "    <tr>\n",
       "      <th>2010-05-31</th>\n",
       "      <td>NaN</td>\n",
       "      <td>NaN</td>\n",
       "      <td>NaN</td>\n",
       "      <td>NaN</td>\n",
       "      <td>NaN</td>\n",
       "      <td>NaN</td>\n",
       "      <td>NaN</td>\n",
       "    </tr>\n",
       "  </tbody>\n",
       "</table>\n",
       "</div>"
      ],
      "text/plain": [
       "                 Open       High        Low      Close  Adj Close     Volume  \\\n",
       "Date                                                                           \n",
       "2010-01-29  62.799999  63.400002  60.320000  60.599998  46.859806  8725400.0   \n",
       "2010-02-26  63.090000  63.880001  63.029999  63.160000  49.172794  4416000.0   \n",
       "2010-03-31  72.919998  73.059998  71.949997  72.610001  56.530022  5884600.0   \n",
       "2010-04-30  73.800003  74.480003  72.260002  72.430000  56.389893  5600900.0   \n",
       "2010-05-31        NaN        NaN        NaN        NaN        NaN        NaN   \n",
       "\n",
       "             Returns  \n",
       "Date                  \n",
       "2010-01-29 -0.031330  \n",
       "2010-02-26  0.004613  \n",
       "2010-03-31 -0.012512  \n",
       "2010-04-30 -0.018431  \n",
       "2010-05-31       NaN  "
      ]
     },
     "execution_count": 12,
     "metadata": {},
     "output_type": "execute_result"
    }
   ],
   "source": [
    "monthly = dataset.asfreq('BM')\n",
    "monthly['Returns'] = dataset['Adj Close'].pct_change().dropna()\n",
    "monthly.head()"
   ]
  },
  {
   "cell_type": "code",
   "execution_count": 13,
   "metadata": {},
   "outputs": [],
   "source": [
    "import calendar\n",
    "import datetime\n",
    "\n",
    "monthly = monthly.reset_index()\n",
    "monthly['Month'] = monthly[\"Date\"].dt.month"
   ]
  },
  {
   "cell_type": "code",
   "execution_count": 14,
   "metadata": {},
   "outputs": [
    {
     "data": {
      "text/html": [
       "<div>\n",
       "<style scoped>\n",
       "    .dataframe tbody tr th:only-of-type {\n",
       "        vertical-align: middle;\n",
       "    }\n",
       "\n",
       "    .dataframe tbody tr th {\n",
       "        vertical-align: top;\n",
       "    }\n",
       "\n",
       "    .dataframe thead th {\n",
       "        text-align: right;\n",
       "    }\n",
       "</style>\n",
       "<table border=\"1\" class=\"dataframe\">\n",
       "  <thead>\n",
       "    <tr style=\"text-align: right;\">\n",
       "      <th></th>\n",
       "      <th>Date</th>\n",
       "      <th>Open</th>\n",
       "      <th>High</th>\n",
       "      <th>Low</th>\n",
       "      <th>Close</th>\n",
       "      <th>Adj Close</th>\n",
       "      <th>Volume</th>\n",
       "      <th>Returns</th>\n",
       "      <th>Month</th>\n",
       "    </tr>\n",
       "  </thead>\n",
       "  <tbody>\n",
       "    <tr>\n",
       "      <th>0</th>\n",
       "      <td>2010-01-29</td>\n",
       "      <td>62.799999</td>\n",
       "      <td>63.400002</td>\n",
       "      <td>60.320000</td>\n",
       "      <td>60.599998</td>\n",
       "      <td>46.859806</td>\n",
       "      <td>8725400.0</td>\n",
       "      <td>-0.031330</td>\n",
       "      <td>1</td>\n",
       "    </tr>\n",
       "    <tr>\n",
       "      <th>1</th>\n",
       "      <td>2010-02-26</td>\n",
       "      <td>63.090000</td>\n",
       "      <td>63.880001</td>\n",
       "      <td>63.029999</td>\n",
       "      <td>63.160000</td>\n",
       "      <td>49.172794</td>\n",
       "      <td>4416000.0</td>\n",
       "      <td>0.004613</td>\n",
       "      <td>2</td>\n",
       "    </tr>\n",
       "    <tr>\n",
       "      <th>2</th>\n",
       "      <td>2010-03-31</td>\n",
       "      <td>72.919998</td>\n",
       "      <td>73.059998</td>\n",
       "      <td>71.949997</td>\n",
       "      <td>72.610001</td>\n",
       "      <td>56.530022</td>\n",
       "      <td>5884600.0</td>\n",
       "      <td>-0.012512</td>\n",
       "      <td>3</td>\n",
       "    </tr>\n",
       "    <tr>\n",
       "      <th>3</th>\n",
       "      <td>2010-04-30</td>\n",
       "      <td>73.800003</td>\n",
       "      <td>74.480003</td>\n",
       "      <td>72.260002</td>\n",
       "      <td>72.430000</td>\n",
       "      <td>56.389893</td>\n",
       "      <td>5600900.0</td>\n",
       "      <td>-0.018431</td>\n",
       "      <td>4</td>\n",
       "    </tr>\n",
       "    <tr>\n",
       "      <th>4</th>\n",
       "      <td>2010-05-31</td>\n",
       "      <td>NaN</td>\n",
       "      <td>NaN</td>\n",
       "      <td>NaN</td>\n",
       "      <td>NaN</td>\n",
       "      <td>NaN</td>\n",
       "      <td>NaN</td>\n",
       "      <td>NaN</td>\n",
       "      <td>5</td>\n",
       "    </tr>\n",
       "  </tbody>\n",
       "</table>\n",
       "</div>"
      ],
      "text/plain": [
       "        Date       Open       High        Low      Close  Adj Close  \\\n",
       "0 2010-01-29  62.799999  63.400002  60.320000  60.599998  46.859806   \n",
       "1 2010-02-26  63.090000  63.880001  63.029999  63.160000  49.172794   \n",
       "2 2010-03-31  72.919998  73.059998  71.949997  72.610001  56.530022   \n",
       "3 2010-04-30  73.800003  74.480003  72.260002  72.430000  56.389893   \n",
       "4 2010-05-31        NaN        NaN        NaN        NaN        NaN   \n",
       "\n",
       "      Volume   Returns  Month  \n",
       "0  8725400.0 -0.031330      1  \n",
       "1  4416000.0  0.004613      2  \n",
       "2  5884600.0 -0.012512      3  \n",
       "3  5600900.0 -0.018431      4  \n",
       "4        NaN       NaN      5  "
      ]
     },
     "execution_count": 14,
     "metadata": {},
     "output_type": "execute_result"
    }
   ],
   "source": [
    "monthly.head()"
   ]
  },
  {
   "cell_type": "code",
   "execution_count": 15,
   "metadata": {},
   "outputs": [
    {
     "data": {
      "text/html": [
       "<div>\n",
       "<style scoped>\n",
       "    .dataframe tbody tr th:only-of-type {\n",
       "        vertical-align: middle;\n",
       "    }\n",
       "\n",
       "    .dataframe tbody tr th {\n",
       "        vertical-align: top;\n",
       "    }\n",
       "\n",
       "    .dataframe thead th {\n",
       "        text-align: right;\n",
       "    }\n",
       "</style>\n",
       "<table border=\"1\" class=\"dataframe\">\n",
       "  <thead>\n",
       "    <tr style=\"text-align: right;\">\n",
       "      <th></th>\n",
       "      <th>Date</th>\n",
       "      <th>Open</th>\n",
       "      <th>High</th>\n",
       "      <th>Low</th>\n",
       "      <th>Close</th>\n",
       "      <th>Adj Close</th>\n",
       "      <th>Volume</th>\n",
       "      <th>Returns</th>\n",
       "      <th>Month</th>\n",
       "    </tr>\n",
       "  </thead>\n",
       "  <tbody>\n",
       "    <tr>\n",
       "      <th>126</th>\n",
       "      <td>2020-07-31</td>\n",
       "      <td>161.550003</td>\n",
       "      <td>163.399994</td>\n",
       "      <td>156.259995</td>\n",
       "      <td>158.000000</td>\n",
       "      <td>158.000000</td>\n",
       "      <td>30286700.0</td>\n",
       "      <td>-0.024390</td>\n",
       "      <td>7</td>\n",
       "    </tr>\n",
       "    <tr>\n",
       "      <th>127</th>\n",
       "      <td>2020-08-31</td>\n",
       "      <td>174.649994</td>\n",
       "      <td>175.270004</td>\n",
       "      <td>171.699997</td>\n",
       "      <td>171.820007</td>\n",
       "      <td>171.820007</td>\n",
       "      <td>16264300.0</td>\n",
       "      <td>-0.022639</td>\n",
       "      <td>8</td>\n",
       "    </tr>\n",
       "    <tr>\n",
       "      <th>128</th>\n",
       "      <td>2020-09-30</td>\n",
       "      <td>164.500000</td>\n",
       "      <td>170.979996</td>\n",
       "      <td>164.110001</td>\n",
       "      <td>165.259995</td>\n",
       "      <td>165.259995</td>\n",
       "      <td>37708000.0</td>\n",
       "      <td>0.010147</td>\n",
       "      <td>9</td>\n",
       "    </tr>\n",
       "    <tr>\n",
       "      <th>129</th>\n",
       "      <td>2020-10-30</td>\n",
       "      <td>147.199997</td>\n",
       "      <td>149.169998</td>\n",
       "      <td>141.580002</td>\n",
       "      <td>144.389999</td>\n",
       "      <td>144.389999</td>\n",
       "      <td>15374700.0</td>\n",
       "      <td>-0.026300</td>\n",
       "      <td>10</td>\n",
       "    </tr>\n",
       "    <tr>\n",
       "      <th>130</th>\n",
       "      <td>2020-11-30</td>\n",
       "      <td>215.699997</td>\n",
       "      <td>217.779999</td>\n",
       "      <td>208.520004</td>\n",
       "      <td>210.710007</td>\n",
       "      <td>210.710007</td>\n",
       "      <td>16501900.0</td>\n",
       "      <td>-0.026744</td>\n",
       "      <td>11</td>\n",
       "    </tr>\n",
       "  </tbody>\n",
       "</table>\n",
       "</div>"
      ],
      "text/plain": [
       "          Date        Open        High         Low       Close   Adj Close  \\\n",
       "126 2020-07-31  161.550003  163.399994  156.259995  158.000000  158.000000   \n",
       "127 2020-08-31  174.649994  175.270004  171.699997  171.820007  171.820007   \n",
       "128 2020-09-30  164.500000  170.979996  164.110001  165.259995  165.259995   \n",
       "129 2020-10-30  147.199997  149.169998  141.580002  144.389999  144.389999   \n",
       "130 2020-11-30  215.699997  217.779999  208.520004  210.710007  210.710007   \n",
       "\n",
       "         Volume   Returns  Month  \n",
       "126  30286700.0 -0.024390      7  \n",
       "127  16264300.0 -0.022639      8  \n",
       "128  37708000.0  0.010147      9  \n",
       "129  15374700.0 -0.026300     10  \n",
       "130  16501900.0 -0.026744     11  "
      ]
     },
     "execution_count": 15,
     "metadata": {},
     "output_type": "execute_result"
    }
   ],
   "source": [
    "monthly.tail()"
   ]
  },
  {
   "cell_type": "code",
   "execution_count": 16,
   "metadata": {},
   "outputs": [],
   "source": [
    "from matplotlib import dates as mdates\n",
    "import datetime as dt\n",
    "\n",
    "monthly['ReturnsPositive'] = 0 < monthly['Returns']\n",
    "monthly['Date'] = pd.to_datetime(monthly['Date'])\n",
    "monthly['Date'] = monthly['Date'].apply(mdates.date2num)"
   ]
  },
  {
   "cell_type": "code",
   "execution_count": 17,
   "metadata": {
    "scrolled": true
   },
   "outputs": [
    {
     "data": {
      "image/png": "[encoded data removed]",
      "text/plain": [
       "<Figure size 3000x600 with 1 Axes>"
      ]
     },
     "metadata": {},
     "output_type": "display_data"
    }
   ],
   "source": [
    "colors = monthly.ReturnsPositive.map({True: 'g', False: 'r'})\n",
    "monthly['Returns'].plot(kind='bar', color = colors, figsize=(30,6))\n",
    "plt.xlabel(\"Months\")\n",
    "plt.ylabel(\"Returns\")\n",
    "plt.title(\"Returns for Each Month \" + start + ' to ' + end)\n",
    "plt.show()"
   ]
  },
  {
   "cell_type": "markdown",
   "metadata": {},
   "source": [
    "# BA Annual Returns \n",
    "(Last 10 years)"
   ]
  },
  {
   "cell_type": "code",
   "execution_count": 18,
   "metadata": {},
   "outputs": [],
   "source": [
    "yearly = dataset.asfreq('BA')\n",
    "yearly['Returns'] = dataset['Adj Close'].pct_change().dropna()"
   ]
  },
  {
   "cell_type": "code",
   "execution_count": 19,
   "metadata": {},
   "outputs": [],
   "source": [
    "yearly = yearly.reset_index()"
   ]
  },
  {
   "cell_type": "code",
   "execution_count": 20,
   "metadata": {},
   "outputs": [],
   "source": [
    "yearly['Years'] = yearly['Date'].dt.year"
   ]
  },
  {
   "cell_type": "code",
   "execution_count": 21,
   "metadata": {},
   "outputs": [],
   "source": [
    "from matplotlib import dates as mdates\n",
    "import datetime as dt\n",
    "\n",
    "yearly['ReturnsPositive'] = 0 < yearly['Returns']\n",
    "yearly['Date'] = pd.to_datetime(yearly['Date'])\n",
    "yearly['Date'] = yearly['Date'].apply(mdates.date2num)"
   ]
  },
  {
   "cell_type": "code",
   "execution_count": 22,
   "metadata": {},
   "outputs": [
    {
     "data": {
      "text/html": [
       "<div>\n",
       "<style scoped>\n",
       "    .dataframe tbody tr th:only-of-type {\n",
       "        vertical-align: middle;\n",
       "    }\n",
       "\n",
       "    .dataframe tbody tr th {\n",
       "        vertical-align: top;\n",
       "    }\n",
       "\n",
       "    .dataframe thead th {\n",
       "        text-align: right;\n",
       "    }\n",
       "</style>\n",
       "<table border=\"1\" class=\"dataframe\">\n",
       "  <thead>\n",
       "    <tr style=\"text-align: right;\">\n",
       "      <th></th>\n",
       "      <th>Date</th>\n",
       "      <th>Open</th>\n",
       "      <th>High</th>\n",
       "      <th>Low</th>\n",
       "      <th>Close</th>\n",
       "      <th>Adj Close</th>\n",
       "      <th>Volume</th>\n",
       "      <th>Returns</th>\n",
       "      <th>Years</th>\n",
       "      <th>ReturnsPositive</th>\n",
       "    </tr>\n",
       "  </thead>\n",
       "  <tbody>\n",
       "    <tr>\n",
       "      <th>0</th>\n",
       "      <td>734137.0</td>\n",
       "      <td>64.900002</td>\n",
       "      <td>65.290001</td>\n",
       "      <td>64.620003</td>\n",
       "      <td>65.260002</td>\n",
       "      <td>51.724434</td>\n",
       "      <td>2137400</td>\n",
       "      <td>0.003845</td>\n",
       "      <td>2010</td>\n",
       "      <td>True</td>\n",
       "    </tr>\n",
       "    <tr>\n",
       "      <th>1</th>\n",
       "      <td>734501.0</td>\n",
       "      <td>73.860001</td>\n",
       "      <td>74.080002</td>\n",
       "      <td>73.239998</td>\n",
       "      <td>73.349998</td>\n",
       "      <td>59.559158</td>\n",
       "      <td>2811800</td>\n",
       "      <td>-0.010255</td>\n",
       "      <td>2011</td>\n",
       "      <td>False</td>\n",
       "    </tr>\n",
       "    <tr>\n",
       "      <th>2</th>\n",
       "      <td>734868.0</td>\n",
       "      <td>74.610001</td>\n",
       "      <td>75.410004</td>\n",
       "      <td>74.000000</td>\n",
       "      <td>75.360001</td>\n",
       "      <td>62.666809</td>\n",
       "      <td>4939000</td>\n",
       "      <td>0.008970</td>\n",
       "      <td>2012</td>\n",
       "      <td>True</td>\n",
       "    </tr>\n",
       "    <tr>\n",
       "      <th>3</th>\n",
       "      <td>735233.0</td>\n",
       "      <td>136.160004</td>\n",
       "      <td>137.050003</td>\n",
       "      <td>135.740005</td>\n",
       "      <td>136.490005</td>\n",
       "      <td>115.759911</td>\n",
       "      <td>2096000</td>\n",
       "      <td>0.004194</td>\n",
       "      <td>2013</td>\n",
       "      <td>True</td>\n",
       "    </tr>\n",
       "    <tr>\n",
       "      <th>4</th>\n",
       "      <td>735598.0</td>\n",
       "      <td>132.250000</td>\n",
       "      <td>132.300003</td>\n",
       "      <td>129.860001</td>\n",
       "      <td>129.979996</td>\n",
       "      <td>112.812035</td>\n",
       "      <td>2712400</td>\n",
       "      <td>-0.014033</td>\n",
       "      <td>2014</td>\n",
       "      <td>False</td>\n",
       "    </tr>\n",
       "    <tr>\n",
       "      <th>5</th>\n",
       "      <td>735963.0</td>\n",
       "      <td>145.960007</td>\n",
       "      <td>145.960007</td>\n",
       "      <td>144.500000</td>\n",
       "      <td>144.589996</td>\n",
       "      <td>128.679169</td>\n",
       "      <td>2105200</td>\n",
       "      <td>-0.012431</td>\n",
       "      <td>2015</td>\n",
       "      <td>False</td>\n",
       "    </tr>\n",
       "    <tr>\n",
       "      <th>6</th>\n",
       "      <td>736328.0</td>\n",
       "      <td>156.490005</td>\n",
       "      <td>156.789993</td>\n",
       "      <td>154.960007</td>\n",
       "      <td>155.679993</td>\n",
       "      <td>144.337631</td>\n",
       "      <td>2027700</td>\n",
       "      <td>-0.000064</td>\n",
       "      <td>2016</td>\n",
       "      <td>False</td>\n",
       "    </tr>\n",
       "    <tr>\n",
       "      <th>7</th>\n",
       "      <td>736692.0</td>\n",
       "      <td>296.940002</td>\n",
       "      <td>297.299988</td>\n",
       "      <td>294.829987</td>\n",
       "      <td>294.910004</td>\n",
       "      <td>281.047150</td>\n",
       "      <td>1824600</td>\n",
       "      <td>-0.004859</td>\n",
       "      <td>2017</td>\n",
       "      <td>False</td>\n",
       "    </tr>\n",
       "    <tr>\n",
       "      <th>8</th>\n",
       "      <td>737059.0</td>\n",
       "      <td>320.500000</td>\n",
       "      <td>323.640015</td>\n",
       "      <td>318.750000</td>\n",
       "      <td>322.500000</td>\n",
       "      <td>313.372223</td>\n",
       "      <td>3557700</td>\n",
       "      <td>0.019344</td>\n",
       "      <td>2018</td>\n",
       "      <td>True</td>\n",
       "    </tr>\n",
       "    <tr>\n",
       "      <th>9</th>\n",
       "      <td>737424.0</td>\n",
       "      <td>325.410004</td>\n",
       "      <td>326.570007</td>\n",
       "      <td>323.320007</td>\n",
       "      <td>325.760010</td>\n",
       "      <td>323.833313</td>\n",
       "      <td>4958800</td>\n",
       "      <td>-0.001961</td>\n",
       "      <td>2019</td>\n",
       "      <td>False</td>\n",
       "    </tr>\n",
       "  </tbody>\n",
       "</table>\n",
       "</div>"
      ],
      "text/plain": [
       "       Date        Open        High         Low       Close   Adj Close  \\\n",
       "0  734137.0   64.900002   65.290001   64.620003   65.260002   51.724434   \n",
       "1  734501.0   73.860001   74.080002   73.239998   73.349998   59.559158   \n",
       "2  734868.0   74.610001   75.410004   74.000000   75.360001   62.666809   \n",
       "3  735233.0  136.160004  137.050003  135.740005  136.490005  115.759911   \n",
       "4  735598.0  132.250000  132.300003  129.860001  129.979996  112.812035   \n",
       "5  735963.0  145.960007  145.960007  144.500000  144.589996  128.679169   \n",
       "6  736328.0  156.490005  156.789993  154.960007  155.679993  144.337631   \n",
       "7  736692.0  296.940002  297.299988  294.829987  294.910004  281.047150   \n",
       "8  737059.0  320.500000  323.640015  318.750000  322.500000  313.372223   \n",
       "9  737424.0  325.410004  326.570007  323.320007  325.760010  323.833313   \n",
       "\n",
       "    Volume   Returns  Years  ReturnsPositive  \n",
       "0  2137400  0.003845   2010             True  \n",
       "1  2811800 -0.010255   2011            False  \n",
       "2  4939000  0.008970   2012             True  \n",
       "3  2096000  0.004194   2013             True  \n",
       "4  2712400 -0.014033   2014            False  \n",
       "5  2105200 -0.012431   2015            False  \n",
       "6  2027700 -0.000064   2016            False  \n",
       "7  1824600 -0.004859   2017            False  \n",
       "8  3557700  0.019344   2018             True  \n",
       "9  4958800 -0.001961   2019            False  "
      ]
     },
     "execution_count": 22,
     "metadata": {},
     "output_type": "execute_result"
    }
   ],
   "source": [
    "yearly"
   ]
  },
  {
   "cell_type": "code",
   "execution_count": 23,
   "metadata": {},
   "outputs": [],
   "source": [
    "dataset['Returns'] = dataset['Adj Close'].pct_change().dropna()"
   ]
  },
  {
   "cell_type": "code",
   "execution_count": 24,
   "metadata": {},
   "outputs": [],
   "source": [
    "yearly_returns_avg = dataset['Returns'].groupby([dataset.index.year]).mean()"
   ]
  },
  {
   "cell_type": "code",
   "execution_count": 25,
   "metadata": {},
   "outputs": [
    {
     "data": {
      "text/plain": [
       "Date\n",
       "2010    0.000870\n",
       "2011    0.000744\n",
       "2012    0.000272\n",
       "2013    0.002526\n",
       "2014   -0.000029\n",
       "2015    0.000616\n",
       "2016    0.000572\n",
       "2017    0.002718\n",
       "2018    0.000628\n",
       "2019    0.000297\n",
       "2020   -0.000075\n",
       "Name: Returns, dtype: float64"
      ]
     },
     "execution_count": 25,
     "metadata": {},
     "output_type": "execute_result"
    }
   ],
   "source": [
    "yearly_returns_avg"
   ]
  },
  {
   "cell_type": "code",
   "execution_count": 46,
   "metadata": {},
   "outputs": [
    {
     "data": {
      "image/png": "[encoded data removed]",
      "text/plain": [
       "<Figure size 1000x500 with 1 Axes>"
      ]
     },
     "metadata": {},
     "output_type": "display_data"
    }
   ],
   "source": [
    "colors = yearly.ReturnsPositive.map({True: 'g', False: 'r'})\n",
    "plt.figure(figsize=(10,5))\n",
    "plt.bar(yearly['Years'], yearly['Returns'], color=colors, align='center')\n",
    "plt.plot(yearly_returns_avg, marker='o', color='b')\n",
    "plt.title('BA Yearly Returns')\n",
    "plt.xlabel('Date')\n",
    "plt.ylabel('Returns')\n",
    "plt.savefig('stanalysis\\static\\BA_Yearly_Returns_Chart.png')\n",
    "plt.show()"
   ]
  },
  {
   "cell_type": "markdown",
   "metadata": {},
   "source": [
    "# Stock Moving Average Analysis"
   ]
  },
  {
   "cell_type": "code",
   "execution_count": 27,
   "metadata": {},
   "outputs": [],
   "source": [
    "dataset['SMA_20'] = dataset['Adj Close'].rolling(20).mean()\n",
    "dataset['SMA_40'] = dataset['Adj Close'].rolling(40).mean()\n",
    "dataset['SMA_80'] = dataset['Adj Close'].rolling(80).mean()"
   ]
  },
  {
   "cell_type": "code",
   "execution_count": 28,
   "metadata": {},
   "outputs": [
    {
     "data": {
      "text/html": [
       "<div>\n",
       "<style scoped>\n",
       "    .dataframe tbody tr th:only-of-type {\n",
       "        vertical-align: middle;\n",
       "    }\n",
       "\n",
       "    .dataframe tbody tr th {\n",
       "        vertical-align: top;\n",
       "    }\n",
       "\n",
       "    .dataframe thead th {\n",
       "        text-align: right;\n",
       "    }\n",
       "</style>\n",
       "<table border=\"1\" class=\"dataframe\">\n",
       "  <thead>\n",
       "    <tr style=\"text-align: right;\">\n",
       "      <th></th>\n",
       "      <th>Open</th>\n",
       "      <th>High</th>\n",
       "      <th>Low</th>\n",
       "      <th>Close</th>\n",
       "      <th>Adj Close</th>\n",
       "      <th>Volume</th>\n",
       "      <th>Returns</th>\n",
       "      <th>SMA_20</th>\n",
       "      <th>SMA_40</th>\n",
       "      <th>SMA_80</th>\n",
       "    </tr>\n",
       "    <tr>\n",
       "      <th>Date</th>\n",
       "      <th></th>\n",
       "      <th></th>\n",
       "      <th></th>\n",
       "      <th></th>\n",
       "      <th></th>\n",
       "      <th></th>\n",
       "      <th></th>\n",
       "      <th></th>\n",
       "      <th></th>\n",
       "      <th></th>\n",
       "    </tr>\n",
       "  </thead>\n",
       "  <tbody>\n",
       "    <tr>\n",
       "      <th>2020-12-23</th>\n",
       "      <td>219.550003</td>\n",
       "      <td>224.399994</td>\n",
       "      <td>219.320007</td>\n",
       "      <td>219.690002</td>\n",
       "      <td>219.690002</td>\n",
       "      <td>10869000</td>\n",
       "      <td>0.004159</td>\n",
       "      <td>225.295500</td>\n",
       "      <td>202.01325</td>\n",
       "      <td>182.937251</td>\n",
       "    </tr>\n",
       "    <tr>\n",
       "      <th>2020-12-24</th>\n",
       "      <td>219.619995</td>\n",
       "      <td>219.880005</td>\n",
       "      <td>216.050003</td>\n",
       "      <td>217.149994</td>\n",
       "      <td>217.149994</td>\n",
       "      <td>6398500</td>\n",
       "      <td>-0.011562</td>\n",
       "      <td>225.272500</td>\n",
       "      <td>203.73850</td>\n",
       "      <td>183.500376</td>\n",
       "    </tr>\n",
       "    <tr>\n",
       "      <th>2020-12-28</th>\n",
       "      <td>218.190002</td>\n",
       "      <td>219.199997</td>\n",
       "      <td>215.160004</td>\n",
       "      <td>216.089996</td>\n",
       "      <td>216.089996</td>\n",
       "      <td>9090600</td>\n",
       "      <td>-0.004881</td>\n",
       "      <td>225.252000</td>\n",
       "      <td>205.43350</td>\n",
       "      <td>184.016751</td>\n",
       "    </tr>\n",
       "    <tr>\n",
       "      <th>2020-12-29</th>\n",
       "      <td>218.300003</td>\n",
       "      <td>221.679993</td>\n",
       "      <td>215.399994</td>\n",
       "      <td>216.250000</td>\n",
       "      <td>216.250000</td>\n",
       "      <td>14593800</td>\n",
       "      <td>0.000740</td>\n",
       "      <td>225.528999</td>\n",
       "      <td>207.23000</td>\n",
       "      <td>184.610251</td>\n",
       "    </tr>\n",
       "    <tr>\n",
       "      <th>2020-12-30</th>\n",
       "      <td>216.360001</td>\n",
       "      <td>218.550003</td>\n",
       "      <td>214.369995</td>\n",
       "      <td>216.669998</td>\n",
       "      <td>216.669998</td>\n",
       "      <td>10812600</td>\n",
       "      <td>0.001942</td>\n",
       "      <td>225.712000</td>\n",
       "      <td>208.93175</td>\n",
       "      <td>185.180501</td>\n",
       "    </tr>\n",
       "  </tbody>\n",
       "</table>\n",
       "</div>"
      ],
      "text/plain": [
       "                  Open        High         Low       Close   Adj Close  \\\n",
       "Date                                                                     \n",
       "2020-12-23  219.550003  224.399994  219.320007  219.690002  219.690002   \n",
       "2020-12-24  219.619995  219.880005  216.050003  217.149994  217.149994   \n",
       "2020-12-28  218.190002  219.199997  215.160004  216.089996  216.089996   \n",
       "2020-12-29  218.300003  221.679993  215.399994  216.250000  216.250000   \n",
       "2020-12-30  216.360001  218.550003  214.369995  216.669998  216.669998   \n",
       "\n",
       "              Volume   Returns      SMA_20     SMA_40      SMA_80  \n",
       "Date                                                               \n",
       "2020-12-23  10869000  0.004159  225.295500  202.01325  182.937251  \n",
       "2020-12-24   6398500 -0.011562  225.272500  203.73850  183.500376  \n",
       "2020-12-28   9090600 -0.004881  225.252000  205.43350  184.016751  \n",
       "2020-12-29  14593800  0.000740  225.528999  207.23000  184.610251  \n",
       "2020-12-30  10812600  0.001942  225.712000  208.93175  185.180501  "
      ]
     },
     "execution_count": 28,
     "metadata": {},
     "output_type": "execute_result"
    }
   ],
   "source": [
    "dataset.tail()"
   ]
  },
  {
   "cell_type": "code",
   "execution_count": 29,
   "metadata": {},
   "outputs": [
    {
     "ename": "NameError",
     "evalue": "name 'df' is not defined",
     "output_type": "error",
     "traceback": [
      "\u001b[1;31m---------------------------------------------------------------------------\u001b[0m",
      "\u001b[1;31mNameError\u001b[0m                                 Traceback (most recent call last)",
      "\u001b[1;32m<ipython-input-29-32927889faa6>\u001b[0m in \u001b[0;36m<module>\u001b[1;34m\u001b[0m\n\u001b[0;32m      2\u001b[0m \u001b[0mfig\u001b[0m\u001b[1;33m,\u001b[0m \u001b[0max\u001b[0m \u001b[1;33m=\u001b[0m \u001b[0mplt\u001b[0m\u001b[1;33m.\u001b[0m\u001b[0msubplots\u001b[0m\u001b[1;33m(\u001b[0m\u001b[0mfigsize\u001b[0m\u001b[1;33m=\u001b[0m\u001b[1;33m(\u001b[0m\u001b[1;36m16\u001b[0m\u001b[1;33m,\u001b[0m\u001b[1;36m9\u001b[0m\u001b[1;33m)\u001b[0m\u001b[1;33m)\u001b[0m\u001b[1;33m\u001b[0m\u001b[1;33m\u001b[0m\u001b[0m\n\u001b[0;32m      3\u001b[0m \u001b[1;33m\u001b[0m\u001b[0m\n\u001b[1;32m----> 4\u001b[1;33m \u001b[0max\u001b[0m\u001b[1;33m.\u001b[0m\u001b[0mplot\u001b[0m\u001b[1;33m(\u001b[0m\u001b[0mdf\u001b[0m\u001b[1;33m.\u001b[0m\u001b[0mindex\u001b[0m\u001b[1;33m,\u001b[0m \u001b[0mdf\u001b[0m\u001b[1;33m[\u001b[0m\u001b[1;34m'Adj Close'\u001b[0m\u001b[1;33m]\u001b[0m\u001b[1;33m,\u001b[0m \u001b[0mlabel\u001b[0m\u001b[1;33m=\u001b[0m\u001b[1;34m'Price'\u001b[0m\u001b[1;33m)\u001b[0m\u001b[1;33m\u001b[0m\u001b[1;33m\u001b[0m\u001b[0m\n\u001b[0m\u001b[0;32m      5\u001b[0m \u001b[0max\u001b[0m\u001b[1;33m.\u001b[0m\u001b[0mplot\u001b[0m\u001b[1;33m(\u001b[0m\u001b[0mdf\u001b[0m\u001b[1;33m.\u001b[0m\u001b[0mindex\u001b[0m\u001b[1;33m,\u001b[0m \u001b[0mdf\u001b[0m\u001b[1;33m[\u001b[0m\u001b[1;34m'SMA_20'\u001b[0m\u001b[1;33m]\u001b[0m\u001b[1;33m,\u001b[0m \u001b[0mlabel\u001b[0m \u001b[1;33m=\u001b[0m \u001b[1;34m'20-days SMA'\u001b[0m\u001b[1;33m)\u001b[0m\u001b[1;33m\u001b[0m\u001b[1;33m\u001b[0m\u001b[0m\n\u001b[0;32m      6\u001b[0m \u001b[0max\u001b[0m\u001b[1;33m.\u001b[0m\u001b[0mplot\u001b[0m\u001b[1;33m(\u001b[0m\u001b[0mdf\u001b[0m\u001b[1;33m.\u001b[0m\u001b[0mindex\u001b[0m\u001b[1;33m,\u001b[0m \u001b[0mdf\u001b[0m\u001b[1;33m[\u001b[0m\u001b[1;34m'SMA_40'\u001b[0m\u001b[1;33m]\u001b[0m\u001b[1;33m,\u001b[0m \u001b[0mlabel\u001b[0m \u001b[1;33m=\u001b[0m \u001b[1;34m'40-days SMA'\u001b[0m\u001b[1;33m)\u001b[0m\u001b[1;33m\u001b[0m\u001b[1;33m\u001b[0m\u001b[0m\n",
      "\u001b[1;31mNameError\u001b[0m: name 'df' is not defined"
     ]
    },
    {
     "data": {
      "image/png": "[encoded data removed]",
      "text/plain": [
       "<Figure size 1600x900 with 1 Axes>"
      ]
     },
     "metadata": {},
     "output_type": "display_data"
    }
   ],
   "source": [
    "import matplotlib.pyplot as plt\n",
    "fig, ax = plt.subplots(figsize=(16,9))\n",
    "\n",
    "ax.plot(df.index, df['Adj Close'], label='Price')\n",
    "ax.plot(df.index, df['SMA_20'], label = '20-days SMA')\n",
    "ax.plot(df.index, df['SMA_40'], label = '40-days SMA')\n",
    "ax.plot(df.index, df['SMA_80'], label = '80-days SMA')\n",
    "\n",
    "ax.legend(loc='best')\n",
    "ax.set_ylabel('Price')\n",
    "ax.set_title('Stock Moving Average Trading Strategy')"
   ]
  },
  {
   "cell_type": "markdown",
   "metadata": {},
   "source": [
    "# Plot 2020 only¶"
   ]
  },
  {
   "cell_type": "code",
   "execution_count": 55,
   "metadata": {},
   "outputs": [
    {
     "ename": "NameError",
     "evalue": "name 'df' is not defined",
     "output_type": "error",
     "traceback": [
      "\u001b[1;31m---------------------------------------------------------------------------\u001b[0m",
      "\u001b[1;31mNameError\u001b[0m                                 Traceback (most recent call last)",
      "\u001b[1;32m<ipython-input-55-ab8127250d8e>\u001b[0m in \u001b[0;36m<module>\u001b[1;34m\u001b[0m\n\u001b[1;32m----> 1\u001b[1;33m \u001b[0mnew_dates\u001b[0m \u001b[1;33m=\u001b[0m \u001b[0mdf\u001b[0m\u001b[1;33m[\u001b[0m\u001b[1;34m'2020-01-01'\u001b[0m\u001b[1;33m:\u001b[0m\u001b[1;34m'2020-12-31'\u001b[0m\u001b[1;33m]\u001b[0m\u001b[1;33m\u001b[0m\u001b[1;33m\u001b[0m\u001b[0m\n\u001b[0m\u001b[0;32m      2\u001b[0m \u001b[0mnew_dates\u001b[0m\u001b[1;33m.\u001b[0m\u001b[0mhead\u001b[0m\u001b[1;33m(\u001b[0m\u001b[1;33m)\u001b[0m\u001b[1;33m\u001b[0m\u001b[1;33m\u001b[0m\u001b[0m\n",
      "\u001b[1;31mNameError\u001b[0m: name 'df' is not defined"
     ]
    }
   ],
   "source": [
    "new_dates = df['2020-01-01':'2020-12-31']\n",
    "new_dates.head()"
   ]
  },
  {
   "cell_type": "code",
   "execution_count": null,
   "metadata": {},
   "outputs": [],
   "source": [
    "plt.figure(figsize=(16,10))\n",
    "plt.plot(new_dates['Adj Close'], label='Price')\n",
    "plt.plot(new_dates['SMA_20'], label = '20-days SMA')\n",
    "plt.plot(new_dates['SMA_40'], label = '40-days SMA')\n",
    "plt.plot(new_dates['SMA_80'], label = '80-days SMA')\n",
    "plt.legend(loc='best')\n",
    "plt.grid(True)\n",
    "plt.ylabel('Price')\n",
    "plt.xlabel('Dates')\n",
    "plt.title('Stock Moving Average Trading Strategy')"
   ]
  },
  {
   "cell_type": "code",
   "execution_count": null,
   "metadata": {},
   "outputs": [],
   "source": [
    "plt.figure(figsize=(16,10))\n",
    "plt.plot_date(x=new_dates.index ,y=new_dates['Adj Close'], label='Price')\n",
    "plt.plot(new_dates['SMA_20'], label = '20-days SMA')\n",
    "plt.plot(new_dates['SMA_40'], label = '40-days SMA')\n",
    "plt.plot(new_dates['SMA_80'], label = '80-days SMA')\n",
    "plt.legend(loc='best')\n",
    "plt.grid(True)\n",
    "plt.ylabel('Price')\n",
    "plt.xlabel('Dates')\n",
    "plt.title('Stock Moving Average Trading Strategy')"
   ]
  },
  {
   "cell_type": "markdown",
   "metadata": {},
   "source": [
    "# Northrop Grumman Analysis"
   ]
  },
  {
   "cell_type": "code",
   "execution_count": 56,
   "metadata": {},
   "outputs": [
    {
     "name": "stdout",
     "output_type": "stream",
     "text": [
      "[*********************100%***********************]  1 of 1 completed\n",
      "[*********************100%***********************]  1 of 1 completed\n"
     ]
    },
    {
     "data": {
      "text/html": [
       "<div>\n",
       "<style scoped>\n",
       "    .dataframe tbody tr th:only-of-type {\n",
       "        vertical-align: middle;\n",
       "    }\n",
       "\n",
       "    .dataframe tbody tr th {\n",
       "        vertical-align: top;\n",
       "    }\n",
       "\n",
       "    .dataframe thead th {\n",
       "        text-align: right;\n",
       "    }\n",
       "</style>\n",
       "<table border=\"1\" class=\"dataframe\">\n",
       "  <thead>\n",
       "    <tr style=\"text-align: right;\">\n",
       "      <th></th>\n",
       "      <th>Open</th>\n",
       "      <th>High</th>\n",
       "      <th>Low</th>\n",
       "      <th>Close</th>\n",
       "      <th>Adj Close</th>\n",
       "      <th>Volume</th>\n",
       "    </tr>\n",
       "    <tr>\n",
       "      <th>Date</th>\n",
       "      <th></th>\n",
       "      <th></th>\n",
       "      <th></th>\n",
       "      <th></th>\n",
       "      <th></th>\n",
       "      <th></th>\n",
       "    </tr>\n",
       "  </thead>\n",
       "  <tbody>\n",
       "    <tr>\n",
       "      <th>2010-01-04</th>\n",
       "      <td>50.686352</td>\n",
       "      <td>51.382046</td>\n",
       "      <td>50.686352</td>\n",
       "      <td>51.363976</td>\n",
       "      <td>40.020126</td>\n",
       "      <td>1616100</td>\n",
       "    </tr>\n",
       "    <tr>\n",
       "      <th>2010-01-05</th>\n",
       "      <td>51.228451</td>\n",
       "      <td>51.906075</td>\n",
       "      <td>51.228451</td>\n",
       "      <td>51.454327</td>\n",
       "      <td>40.090530</td>\n",
       "      <td>1859800</td>\n",
       "    </tr>\n",
       "    <tr>\n",
       "      <th>2010-01-06</th>\n",
       "      <td>51.318802</td>\n",
       "      <td>51.698269</td>\n",
       "      <td>51.129066</td>\n",
       "      <td>51.653095</td>\n",
       "      <td>40.245392</td>\n",
       "      <td>2204900</td>\n",
       "    </tr>\n",
       "    <tr>\n",
       "      <th>2010-01-07</th>\n",
       "      <td>51.427219</td>\n",
       "      <td>52.366859</td>\n",
       "      <td>51.246521</td>\n",
       "      <td>52.186161</td>\n",
       "      <td>40.660736</td>\n",
       "      <td>4750900</td>\n",
       "    </tr>\n",
       "    <tr>\n",
       "      <th>2010-01-08</th>\n",
       "      <td>51.833794</td>\n",
       "      <td>52.493351</td>\n",
       "      <td>51.635025</td>\n",
       "      <td>51.897041</td>\n",
       "      <td>40.435459</td>\n",
       "      <td>1723700</td>\n",
       "    </tr>\n",
       "  </tbody>\n",
       "</table>\n",
       "</div>"
      ],
      "text/plain": [
       "                 Open       High        Low      Close  Adj Close   Volume\n",
       "Date                                                                      \n",
       "2010-01-04  50.686352  51.382046  50.686352  51.363976  40.020126  1616100\n",
       "2010-01-05  51.228451  51.906075  51.228451  51.454327  40.090530  1859800\n",
       "2010-01-06  51.318802  51.698269  51.129066  51.653095  40.245392  2204900\n",
       "2010-01-07  51.427219  52.366859  51.246521  52.186161  40.660736  4750900\n",
       "2010-01-08  51.833794  52.493351  51.635025  51.897041  40.435459  1723700"
      ]
     },
     "execution_count": 56,
     "metadata": {},
     "output_type": "execute_result"
    }
   ],
   "source": [
    "# input\n",
    "symbol = 'noc'\n",
    "start = '2010-01-02'\n",
    "end = '2020-12-31'\n",
    "\n",
    "# Read data \n",
    "data = yf.download(symbol,start,end)\n",
    "\n",
    "# Read data \n",
    "dataset = yf.download(symbol,start,end)\n",
    "\n",
    "# View Data\n",
    "dataset.head()\n",
    "\n",
    "# View Columns\n",
    "data.head()"
   ]
  },
  {
   "cell_type": "code",
   "execution_count": 57,
   "metadata": {},
   "outputs": [
    {
     "data": {
      "text/html": [
       "<div>\n",
       "<style scoped>\n",
       "    .dataframe tbody tr th:only-of-type {\n",
       "        vertical-align: middle;\n",
       "    }\n",
       "\n",
       "    .dataframe tbody tr th {\n",
       "        vertical-align: top;\n",
       "    }\n",
       "\n",
       "    .dataframe thead th {\n",
       "        text-align: right;\n",
       "    }\n",
       "</style>\n",
       "<table border=\"1\" class=\"dataframe\">\n",
       "  <thead>\n",
       "    <tr style=\"text-align: right;\">\n",
       "      <th></th>\n",
       "      <th>Open</th>\n",
       "      <th>High</th>\n",
       "      <th>Low</th>\n",
       "      <th>Close</th>\n",
       "      <th>Adj Close</th>\n",
       "      <th>Volume</th>\n",
       "    </tr>\n",
       "    <tr>\n",
       "      <th>Date</th>\n",
       "      <th></th>\n",
       "      <th></th>\n",
       "      <th></th>\n",
       "      <th></th>\n",
       "      <th></th>\n",
       "      <th></th>\n",
       "    </tr>\n",
       "  </thead>\n",
       "  <tbody>\n",
       "    <tr>\n",
       "      <th>2020-12-23</th>\n",
       "      <td>298.290009</td>\n",
       "      <td>302.839996</td>\n",
       "      <td>297.559998</td>\n",
       "      <td>300.660004</td>\n",
       "      <td>300.660004</td>\n",
       "      <td>787000</td>\n",
       "    </tr>\n",
       "    <tr>\n",
       "      <th>2020-12-24</th>\n",
       "      <td>300.589996</td>\n",
       "      <td>301.079987</td>\n",
       "      <td>296.929993</td>\n",
       "      <td>299.600006</td>\n",
       "      <td>299.600006</td>\n",
       "      <td>332700</td>\n",
       "    </tr>\n",
       "    <tr>\n",
       "      <th>2020-12-28</th>\n",
       "      <td>300.510010</td>\n",
       "      <td>304.709991</td>\n",
       "      <td>299.309998</td>\n",
       "      <td>303.019989</td>\n",
       "      <td>303.019989</td>\n",
       "      <td>603900</td>\n",
       "    </tr>\n",
       "    <tr>\n",
       "      <th>2020-12-29</th>\n",
       "      <td>304.809998</td>\n",
       "      <td>305.029999</td>\n",
       "      <td>299.149994</td>\n",
       "      <td>300.989990</td>\n",
       "      <td>300.989990</td>\n",
       "      <td>524500</td>\n",
       "    </tr>\n",
       "    <tr>\n",
       "      <th>2020-12-30</th>\n",
       "      <td>301.459991</td>\n",
       "      <td>305.549988</td>\n",
       "      <td>301.320007</td>\n",
       "      <td>302.609985</td>\n",
       "      <td>302.609985</td>\n",
       "      <td>528100</td>\n",
       "    </tr>\n",
       "  </tbody>\n",
       "</table>\n",
       "</div>"
      ],
      "text/plain": [
       "                  Open        High         Low       Close   Adj Close  Volume\n",
       "Date                                                                          \n",
       "2020-12-23  298.290009  302.839996  297.559998  300.660004  300.660004  787000\n",
       "2020-12-24  300.589996  301.079987  296.929993  299.600006  299.600006  332700\n",
       "2020-12-28  300.510010  304.709991  299.309998  303.019989  303.019989  603900\n",
       "2020-12-29  304.809998  305.029999  299.149994  300.989990  300.989990  524500\n",
       "2020-12-30  301.459991  305.549988  301.320007  302.609985  302.609985  528100"
      ]
     },
     "execution_count": 57,
     "metadata": {},
     "output_type": "execute_result"
    }
   ],
   "source": [
    "dataset.tail()"
   ]
  },
  {
   "cell_type": "code",
   "execution_count": 58,
   "metadata": {},
   "outputs": [
    {
     "data": {
      "image/png": "[encoded data removed]",
      "text/plain": [
       "<Figure size 1600x800 with 1 Axes>"
      ]
     },
     "metadata": {},
     "output_type": "display_data"
    }
   ],
   "source": [
    "plt.figure(figsize=(16,8))\n",
    "plt.plot(dataset['Adj Close'])\n",
    "plt.title('Northern Grumman Closing Price Chart')\n",
    "plt.xlabel('Date')\n",
    "plt.ylabel('Price')\n",
    "plt.grid(True)\n",
    "plt.show()"
   ]
  },
  {
   "cell_type": "markdown",
   "metadata": {},
   "source": [
    "# Northrop Grumman Annual Returns \n",
    "(Last 10 years)"
   ]
  },
  {
   "cell_type": "code",
   "execution_count": 59,
   "metadata": {},
   "outputs": [],
   "source": [
    "yearly = dataset.asfreq('BA')\n",
    "yearly['Returns'] = dataset['Adj Close'].pct_change().dropna()"
   ]
  },
  {
   "cell_type": "code",
   "execution_count": 60,
   "metadata": {},
   "outputs": [],
   "source": [
    "yearly = yearly.reset_index()"
   ]
  },
  {
   "cell_type": "code",
   "execution_count": 61,
   "metadata": {},
   "outputs": [],
   "source": [
    "yearly['Years'] = yearly['Date'].dt.year"
   ]
  },
  {
   "cell_type": "code",
   "execution_count": 62,
   "metadata": {},
   "outputs": [],
   "source": [
    "from matplotlib import dates as mdates\n",
    "import datetime as dt\n",
    "\n",
    "yearly['ReturnsPositive'] = 0 < yearly['Returns']\n",
    "yearly['Date'] = pd.to_datetime(yearly['Date'])\n",
    "yearly['Date'] = yearly['Date'].apply(mdates.date2num)"
   ]
  },
  {
   "cell_type": "code",
   "execution_count": 63,
   "metadata": {},
   "outputs": [
    {
     "data": {
      "text/html": [
       "<div>\n",
       "<style scoped>\n",
       "    .dataframe tbody tr th:only-of-type {\n",
       "        vertical-align: middle;\n",
       "    }\n",
       "\n",
       "    .dataframe tbody tr th {\n",
       "        vertical-align: top;\n",
       "    }\n",
       "\n",
       "    .dataframe thead th {\n",
       "        text-align: right;\n",
       "    }\n",
       "</style>\n",
       "<table border=\"1\" class=\"dataframe\">\n",
       "  <thead>\n",
       "    <tr style=\"text-align: right;\">\n",
       "      <th></th>\n",
       "      <th>Date</th>\n",
       "      <th>Open</th>\n",
       "      <th>High</th>\n",
       "      <th>Low</th>\n",
       "      <th>Close</th>\n",
       "      <th>Adj Close</th>\n",
       "      <th>Volume</th>\n",
       "      <th>Returns</th>\n",
       "      <th>Years</th>\n",
       "      <th>ReturnsPositive</th>\n",
       "    </tr>\n",
       "  </thead>\n",
       "  <tbody>\n",
       "    <tr>\n",
       "      <th>0</th>\n",
       "      <td>734137.0</td>\n",
       "      <td>58.203468</td>\n",
       "      <td>58.628117</td>\n",
       "      <td>57.986629</td>\n",
       "      <td>58.528728</td>\n",
       "      <td>47.198536</td>\n",
       "      <td>1192900</td>\n",
       "      <td>0.005276</td>\n",
       "      <td>2010</td>\n",
       "      <td>True</td>\n",
       "    </tr>\n",
       "    <tr>\n",
       "      <th>1</th>\n",
       "      <td>734501.0</td>\n",
       "      <td>58.770000</td>\n",
       "      <td>59.150002</td>\n",
       "      <td>58.459999</td>\n",
       "      <td>58.480000</td>\n",
       "      <td>48.804790</td>\n",
       "      <td>1049000</td>\n",
       "      <td>-0.006962</td>\n",
       "      <td>2011</td>\n",
       "      <td>False</td>\n",
       "    </tr>\n",
       "    <tr>\n",
       "      <th>2</th>\n",
       "      <td>734868.0</td>\n",
       "      <td>66.510002</td>\n",
       "      <td>67.709999</td>\n",
       "      <td>65.870003</td>\n",
       "      <td>67.580002</td>\n",
       "      <td>58.366062</td>\n",
       "      <td>1682200</td>\n",
       "      <td>0.012283</td>\n",
       "      <td>2012</td>\n",
       "      <td>True</td>\n",
       "    </tr>\n",
       "    <tr>\n",
       "      <th>3</th>\n",
       "      <td>735233.0</td>\n",
       "      <td>114.250000</td>\n",
       "      <td>114.779999</td>\n",
       "      <td>113.849998</td>\n",
       "      <td>114.610001</td>\n",
       "      <td>101.793770</td>\n",
       "      <td>965800</td>\n",
       "      <td>0.005969</td>\n",
       "      <td>2013</td>\n",
       "      <td>True</td>\n",
       "    </tr>\n",
       "    <tr>\n",
       "      <th>4</th>\n",
       "      <td>735598.0</td>\n",
       "      <td>150.750000</td>\n",
       "      <td>151.210007</td>\n",
       "      <td>147.229996</td>\n",
       "      <td>147.389999</td>\n",
       "      <td>133.745926</td>\n",
       "      <td>1600600</td>\n",
       "      <td>-0.022353</td>\n",
       "      <td>2014</td>\n",
       "      <td>False</td>\n",
       "    </tr>\n",
       "    <tr>\n",
       "      <th>5</th>\n",
       "      <td>735963.0</td>\n",
       "      <td>189.460007</td>\n",
       "      <td>190.649994</td>\n",
       "      <td>187.550003</td>\n",
       "      <td>188.809998</td>\n",
       "      <td>174.501663</td>\n",
       "      <td>550600</td>\n",
       "      <td>-0.006682</td>\n",
       "      <td>2015</td>\n",
       "      <td>False</td>\n",
       "    </tr>\n",
       "    <tr>\n",
       "      <th>6</th>\n",
       "      <td>736328.0</td>\n",
       "      <td>232.880005</td>\n",
       "      <td>233.339996</td>\n",
       "      <td>231.710007</td>\n",
       "      <td>232.580002</td>\n",
       "      <td>218.477615</td>\n",
       "      <td>740900</td>\n",
       "      <td>-0.000215</td>\n",
       "      <td>2016</td>\n",
       "      <td>False</td>\n",
       "    </tr>\n",
       "    <tr>\n",
       "      <th>7</th>\n",
       "      <td>736692.0</td>\n",
       "      <td>308.250000</td>\n",
       "      <td>309.190002</td>\n",
       "      <td>306.910004</td>\n",
       "      <td>306.910004</td>\n",
       "      <td>292.508423</td>\n",
       "      <td>430900</td>\n",
       "      <td>-0.004476</td>\n",
       "      <td>2017</td>\n",
       "      <td>False</td>\n",
       "    </tr>\n",
       "    <tr>\n",
       "      <th>8</th>\n",
       "      <td>737059.0</td>\n",
       "      <td>243.309998</td>\n",
       "      <td>246.919998</td>\n",
       "      <td>241.720001</td>\n",
       "      <td>244.899994</td>\n",
       "      <td>237.071686</td>\n",
       "      <td>1111700</td>\n",
       "      <td>0.010939</td>\n",
       "      <td>2018</td>\n",
       "      <td>True</td>\n",
       "    </tr>\n",
       "    <tr>\n",
       "      <th>9</th>\n",
       "      <td>737424.0</td>\n",
       "      <td>348.269989</td>\n",
       "      <td>348.980011</td>\n",
       "      <td>342.730011</td>\n",
       "      <td>343.970001</td>\n",
       "      <td>338.274017</td>\n",
       "      <td>907800</td>\n",
       "      <td>-0.014610</td>\n",
       "      <td>2019</td>\n",
       "      <td>False</td>\n",
       "    </tr>\n",
       "  </tbody>\n",
       "</table>\n",
       "</div>"
      ],
      "text/plain": [
       "       Date        Open        High         Low       Close   Adj Close  \\\n",
       "0  734137.0   58.203468   58.628117   57.986629   58.528728   47.198536   \n",
       "1  734501.0   58.770000   59.150002   58.459999   58.480000   48.804790   \n",
       "2  734868.0   66.510002   67.709999   65.870003   67.580002   58.366062   \n",
       "3  735233.0  114.250000  114.779999  113.849998  114.610001  101.793770   \n",
       "4  735598.0  150.750000  151.210007  147.229996  147.389999  133.745926   \n",
       "5  735963.0  189.460007  190.649994  187.550003  188.809998  174.501663   \n",
       "6  736328.0  232.880005  233.339996  231.710007  232.580002  218.477615   \n",
       "7  736692.0  308.250000  309.190002  306.910004  306.910004  292.508423   \n",
       "8  737059.0  243.309998  246.919998  241.720001  244.899994  237.071686   \n",
       "9  737424.0  348.269989  348.980011  342.730011  343.970001  338.274017   \n",
       "\n",
       "    Volume   Returns  Years  ReturnsPositive  \n",
       "0  1192900  0.005276   2010             True  \n",
       "1  1049000 -0.006962   2011            False  \n",
       "2  1682200  0.012283   2012             True  \n",
       "3   965800  0.005969   2013             True  \n",
       "4  1600600 -0.022353   2014            False  \n",
       "5   550600 -0.006682   2015            False  \n",
       "6   740900 -0.000215   2016            False  \n",
       "7   430900 -0.004476   2017            False  \n",
       "8  1111700  0.010939   2018             True  \n",
       "9   907800 -0.014610   2019            False  "
      ]
     },
     "execution_count": 63,
     "metadata": {},
     "output_type": "execute_result"
    }
   ],
   "source": [
    "yearly"
   ]
  },
  {
   "cell_type": "code",
   "execution_count": 64,
   "metadata": {},
   "outputs": [],
   "source": [
    "dataset['Returns'] = dataset['Adj Close'].pct_change().dropna()"
   ]
  },
  {
   "cell_type": "code",
   "execution_count": 65,
   "metadata": {},
   "outputs": [],
   "source": [
    "yearly_returns_avg = dataset['Returns'].groupby([dataset.index.year]).mean()"
   ]
  },
  {
   "cell_type": "code",
   "execution_count": 66,
   "metadata": {},
   "outputs": [
    {
     "data": {
      "text/plain": [
       "Date\n",
       "2010    0.000758\n",
       "2011    0.000263\n",
       "2012    0.000764\n",
       "2013    0.002260\n",
       "2014    0.001156\n",
       "2015    0.001136\n",
       "2016    0.000946\n",
       "2017    0.001193\n",
       "2018   -0.000690\n",
       "2019    0.001506\n",
       "2020   -0.000129\n",
       "Name: Returns, dtype: float64"
      ]
     },
     "execution_count": 66,
     "metadata": {},
     "output_type": "execute_result"
    }
   ],
   "source": [
    "yearly_returns_avg"
   ]
  },
  {
   "cell_type": "code",
   "execution_count": 68,
   "metadata": {},
   "outputs": [
    {
     "data": {
      "image/png": "[encoded data removed]",
      "text/plain": [
       "<Figure size 1000x500 with 1 Axes>"
      ]
     },
     "metadata": {},
     "output_type": "display_data"
    }
   ],
   "source": [
    "colors = yearly.ReturnsPositive.map({True: 'g', False: 'r'})\n",
    "plt.figure(figsize=(10,5))\n",
    "plt.bar(yearly['Years'], yearly['Returns'], color=colors, align='center')\n",
    "plt.plot(yearly_returns_avg, marker='o', color='b')\n",
    "plt.title('NOC Yearly Returns')\n",
    "plt.xlabel('Date')\n",
    "plt.ylabel('Returns')\n",
    "plt.savefig('stanalysis\\static\\Yearly_NOC_Returns_Chart.png')\n",
    "plt.show()"
   ]
  },
  {
   "cell_type": "markdown",
   "metadata": {},
   "source": [
    "# Ratheon Technology Analysis"
   ]
  },
  {
   "cell_type": "code",
   "execution_count": 69,
   "metadata": {},
   "outputs": [
    {
     "name": "stdout",
     "output_type": "stream",
     "text": [
      "[*********************100%***********************]  1 of 1 completed\n",
      "[*********************100%***********************]  1 of 1 completed\n"
     ]
    },
    {
     "data": {
      "text/html": [
       "<div>\n",
       "<style scoped>\n",
       "    .dataframe tbody tr th:only-of-type {\n",
       "        vertical-align: middle;\n",
       "    }\n",
       "\n",
       "    .dataframe tbody tr th {\n",
       "        vertical-align: top;\n",
       "    }\n",
       "\n",
       "    .dataframe thead th {\n",
       "        text-align: right;\n",
       "    }\n",
       "</style>\n",
       "<table border=\"1\" class=\"dataframe\">\n",
       "  <thead>\n",
       "    <tr style=\"text-align: right;\">\n",
       "      <th></th>\n",
       "      <th>Open</th>\n",
       "      <th>High</th>\n",
       "      <th>Low</th>\n",
       "      <th>Close</th>\n",
       "      <th>Adj Close</th>\n",
       "      <th>Volume</th>\n",
       "    </tr>\n",
       "    <tr>\n",
       "      <th>Date</th>\n",
       "      <th></th>\n",
       "      <th></th>\n",
       "      <th></th>\n",
       "      <th></th>\n",
       "      <th></th>\n",
       "      <th></th>\n",
       "    </tr>\n",
       "  </thead>\n",
       "  <tbody>\n",
       "    <tr>\n",
       "      <th>2010-01-04</th>\n",
       "      <td>44.185020</td>\n",
       "      <td>45.223412</td>\n",
       "      <td>43.964756</td>\n",
       "      <td>45.078667</td>\n",
       "      <td>34.661850</td>\n",
       "      <td>9699400</td>\n",
       "    </tr>\n",
       "    <tr>\n",
       "      <th>2010-01-05</th>\n",
       "      <td>45.084961</td>\n",
       "      <td>45.084961</td>\n",
       "      <td>44.229076</td>\n",
       "      <td>44.405285</td>\n",
       "      <td>34.144073</td>\n",
       "      <td>7952700</td>\n",
       "    </tr>\n",
       "    <tr>\n",
       "      <th>2010-01-06</th>\n",
       "      <td>44.405285</td>\n",
       "      <td>44.575203</td>\n",
       "      <td>44.071743</td>\n",
       "      <td>44.172436</td>\n",
       "      <td>33.965034</td>\n",
       "      <td>7511000</td>\n",
       "    </tr>\n",
       "    <tr>\n",
       "      <th>2010-01-07</th>\n",
       "      <td>44.059158</td>\n",
       "      <td>44.443047</td>\n",
       "      <td>43.782253</td>\n",
       "      <td>44.361233</td>\n",
       "      <td>34.110203</td>\n",
       "      <td>6776100</td>\n",
       "    </tr>\n",
       "    <tr>\n",
       "      <th>2010-01-08</th>\n",
       "      <td>44.216488</td>\n",
       "      <td>44.493393</td>\n",
       "      <td>44.210194</td>\n",
       "      <td>44.449341</td>\n",
       "      <td>34.177952</td>\n",
       "      <td>7396400</td>\n",
       "    </tr>\n",
       "  </tbody>\n",
       "</table>\n",
       "</div>"
      ],
      "text/plain": [
       "                 Open       High        Low      Close  Adj Close   Volume\n",
       "Date                                                                      \n",
       "2010-01-04  44.185020  45.223412  43.964756  45.078667  34.661850  9699400\n",
       "2010-01-05  45.084961  45.084961  44.229076  44.405285  34.144073  7952700\n",
       "2010-01-06  44.405285  44.575203  44.071743  44.172436  33.965034  7511000\n",
       "2010-01-07  44.059158  44.443047  43.782253  44.361233  34.110203  6776100\n",
       "2010-01-08  44.216488  44.493393  44.210194  44.449341  34.177952  7396400"
      ]
     },
     "execution_count": 69,
     "metadata": {},
     "output_type": "execute_result"
    }
   ],
   "source": [
    "# input\n",
    "symbol = 'rtx'\n",
    "start = '2010-01-02'\n",
    "end = '2020-12-31'\n",
    "\n",
    "# Read data \n",
    "data = yf.download(symbol,start,end)\n",
    "\n",
    "# Read data \n",
    "dataset = yf.download(symbol,start,end)\n",
    "\n",
    "# View Data\n",
    "dataset.head()\n",
    "\n",
    "# View Columns\n",
    "data.head()\n",
    "\n"
   ]
  },
  {
   "cell_type": "code",
   "execution_count": 70,
   "metadata": {},
   "outputs": [
    {
     "data": {
      "text/html": [
       "<div>\n",
       "<style scoped>\n",
       "    .dataframe tbody tr th:only-of-type {\n",
       "        vertical-align: middle;\n",
       "    }\n",
       "\n",
       "    .dataframe tbody tr th {\n",
       "        vertical-align: top;\n",
       "    }\n",
       "\n",
       "    .dataframe thead th {\n",
       "        text-align: right;\n",
       "    }\n",
       "</style>\n",
       "<table border=\"1\" class=\"dataframe\">\n",
       "  <thead>\n",
       "    <tr style=\"text-align: right;\">\n",
       "      <th></th>\n",
       "      <th>Open</th>\n",
       "      <th>High</th>\n",
       "      <th>Low</th>\n",
       "      <th>Close</th>\n",
       "      <th>Adj Close</th>\n",
       "      <th>Volume</th>\n",
       "    </tr>\n",
       "    <tr>\n",
       "      <th>Date</th>\n",
       "      <th></th>\n",
       "      <th></th>\n",
       "      <th></th>\n",
       "      <th></th>\n",
       "      <th></th>\n",
       "      <th></th>\n",
       "    </tr>\n",
       "  </thead>\n",
       "  <tbody>\n",
       "    <tr>\n",
       "      <th>2020-12-23</th>\n",
       "      <td>69.790001</td>\n",
       "      <td>71.410004</td>\n",
       "      <td>69.589996</td>\n",
       "      <td>70.720001</td>\n",
       "      <td>70.720001</td>\n",
       "      <td>4312900</td>\n",
       "    </tr>\n",
       "    <tr>\n",
       "      <th>2020-12-24</th>\n",
       "      <td>70.949997</td>\n",
       "      <td>70.949997</td>\n",
       "      <td>69.889999</td>\n",
       "      <td>70.269997</td>\n",
       "      <td>70.269997</td>\n",
       "      <td>1758600</td>\n",
       "    </tr>\n",
       "    <tr>\n",
       "      <th>2020-12-28</th>\n",
       "      <td>70.699997</td>\n",
       "      <td>71.459999</td>\n",
       "      <td>70.339996</td>\n",
       "      <td>70.629997</td>\n",
       "      <td>70.629997</td>\n",
       "      <td>2938000</td>\n",
       "    </tr>\n",
       "    <tr>\n",
       "      <th>2020-12-29</th>\n",
       "      <td>71.000000</td>\n",
       "      <td>71.099998</td>\n",
       "      <td>69.669998</td>\n",
       "      <td>70.339996</td>\n",
       "      <td>70.339996</td>\n",
       "      <td>3670100</td>\n",
       "    </tr>\n",
       "    <tr>\n",
       "      <th>2020-12-30</th>\n",
       "      <td>70.500000</td>\n",
       "      <td>71.639999</td>\n",
       "      <td>70.339996</td>\n",
       "      <td>71.360001</td>\n",
       "      <td>71.360001</td>\n",
       "      <td>5015500</td>\n",
       "    </tr>\n",
       "  </tbody>\n",
       "</table>\n",
       "</div>"
      ],
      "text/plain": [
       "                 Open       High        Low      Close  Adj Close   Volume\n",
       "Date                                                                      \n",
       "2020-12-23  69.790001  71.410004  69.589996  70.720001  70.720001  4312900\n",
       "2020-12-24  70.949997  70.949997  69.889999  70.269997  70.269997  1758600\n",
       "2020-12-28  70.699997  71.459999  70.339996  70.629997  70.629997  2938000\n",
       "2020-12-29  71.000000  71.099998  69.669998  70.339996  70.339996  3670100\n",
       "2020-12-30  70.500000  71.639999  70.339996  71.360001  71.360001  5015500"
      ]
     },
     "execution_count": 70,
     "metadata": {},
     "output_type": "execute_result"
    }
   ],
   "source": [
    "dataset.tail()"
   ]
  },
  {
   "cell_type": "code",
   "execution_count": 71,
   "metadata": {},
   "outputs": [
    {
     "data": {
      "image/png": "[encoded data removed]",
      "text/plain": [
       "<Figure size 1600x800 with 1 Axes>"
      ]
     },
     "metadata": {},
     "output_type": "display_data"
    }
   ],
   "source": [
    "plt.figure(figsize=(16,8))\n",
    "plt.plot(dataset['Adj Close'])\n",
    "plt.title('Ratheon Tech. Closing Price Chart')\n",
    "plt.xlabel('Date')\n",
    "plt.ylabel('Price')\n",
    "plt.grid(True)\n",
    "plt.show()"
   ]
  },
  {
   "cell_type": "markdown",
   "metadata": {},
   "source": [
    "# Ratheon Tech. Annual Returns \n",
    "(Last 10 years)"
   ]
  },
  {
   "cell_type": "code",
   "execution_count": 85,
   "metadata": {},
   "outputs": [
    {
     "ename": "ValueError",
     "evalue": "Invalid frequency: RTX",
     "output_type": "error",
     "traceback": [
      "\u001b[1;31m---------------------------------------------------------------------------\u001b[0m",
      "\u001b[1;31mKeyError\u001b[0m                                  Traceback (most recent call last)",
      "\u001b[1;32m~\\anaconda3\\lib\\site-packages\\pandas\\tseries\\frequencies.py\u001b[0m in \u001b[0;36m_get_offset\u001b[1;34m(name)\u001b[0m\n\u001b[0;32m    221\u001b[0m             \u001b[0msplit\u001b[0m \u001b[1;33m=\u001b[0m \u001b[0mname\u001b[0m\u001b[1;33m.\u001b[0m\u001b[0msplit\u001b[0m\u001b[1;33m(\u001b[0m\u001b[1;34m\"-\"\u001b[0m\u001b[1;33m)\u001b[0m\u001b[1;33m\u001b[0m\u001b[1;33m\u001b[0m\u001b[0m\n\u001b[1;32m--> 222\u001b[1;33m             \u001b[0mklass\u001b[0m \u001b[1;33m=\u001b[0m \u001b[0mprefix_mapping\u001b[0m\u001b[1;33m[\u001b[0m\u001b[0msplit\u001b[0m\u001b[1;33m[\u001b[0m\u001b[1;36m0\u001b[0m\u001b[1;33m]\u001b[0m\u001b[1;33m]\u001b[0m\u001b[1;33m\u001b[0m\u001b[1;33m\u001b[0m\u001b[0m\n\u001b[0m\u001b[0;32m    223\u001b[0m             \u001b[1;31m# handles case where there's no suffix (and will TypeError if too\u001b[0m\u001b[1;33m\u001b[0m\u001b[1;33m\u001b[0m\u001b[1;33m\u001b[0m\u001b[0m\n",
      "\u001b[1;31mKeyError\u001b[0m: 'RTX'",
      "\nDuring handling of the above exception, another exception occurred:\n",
      "\u001b[1;31mValueError\u001b[0m                                Traceback (most recent call last)",
      "\u001b[1;32m~\\anaconda3\\lib\\site-packages\\pandas\\tseries\\frequencies.py\u001b[0m in \u001b[0;36mto_offset\u001b[1;34m(freq)\u001b[0m\n\u001b[0;32m    169\u001b[0m                 \u001b[0mstride\u001b[0m \u001b[1;33m=\u001b[0m \u001b[0mint\u001b[0m\u001b[1;33m(\u001b[0m\u001b[0mstride\u001b[0m\u001b[1;33m)\u001b[0m\u001b[1;33m\u001b[0m\u001b[1;33m\u001b[0m\u001b[0m\n\u001b[1;32m--> 170\u001b[1;33m                 \u001b[0moffset\u001b[0m \u001b[1;33m=\u001b[0m \u001b[0m_get_offset\u001b[0m\u001b[1;33m(\u001b[0m\u001b[0mname\u001b[0m\u001b[1;33m)\u001b[0m\u001b[1;33m\u001b[0m\u001b[1;33m\u001b[0m\u001b[0m\n\u001b[0m\u001b[0;32m    171\u001b[0m                 \u001b[0moffset\u001b[0m \u001b[1;33m=\u001b[0m \u001b[0moffset\u001b[0m \u001b[1;33m*\u001b[0m \u001b[0mint\u001b[0m\u001b[1;33m(\u001b[0m\u001b[0mnp\u001b[0m\u001b[1;33m.\u001b[0m\u001b[0mfabs\u001b[0m\u001b[1;33m(\u001b[0m\u001b[0mstride\u001b[0m\u001b[1;33m)\u001b[0m \u001b[1;33m*\u001b[0m \u001b[0mstride_sign\u001b[0m\u001b[1;33m)\u001b[0m\u001b[1;33m\u001b[0m\u001b[1;33m\u001b[0m\u001b[0m\n",
      "\u001b[1;32m~\\anaconda3\\lib\\site-packages\\pandas\\tseries\\frequencies.py\u001b[0m in \u001b[0;36m_get_offset\u001b[1;34m(name)\u001b[0m\n\u001b[0;32m    227\u001b[0m             \u001b[1;31m# bad prefix or suffix\u001b[0m\u001b[1;33m\u001b[0m\u001b[1;33m\u001b[0m\u001b[1;33m\u001b[0m\u001b[0m\n\u001b[1;32m--> 228\u001b[1;33m             \u001b[1;32mraise\u001b[0m \u001b[0mValueError\u001b[0m\u001b[1;33m(\u001b[0m\u001b[0mlibfreqs\u001b[0m\u001b[1;33m.\u001b[0m\u001b[0mINVALID_FREQ_ERR_MSG\u001b[0m\u001b[1;33m.\u001b[0m\u001b[0mformat\u001b[0m\u001b[1;33m(\u001b[0m\u001b[0mname\u001b[0m\u001b[1;33m)\u001b[0m\u001b[1;33m)\u001b[0m\u001b[1;33m\u001b[0m\u001b[1;33m\u001b[0m\u001b[0m\n\u001b[0m\u001b[0;32m    229\u001b[0m         \u001b[1;31m# cache\u001b[0m\u001b[1;33m\u001b[0m\u001b[1;33m\u001b[0m\u001b[1;33m\u001b[0m\u001b[0m\n",
      "\u001b[1;31mValueError\u001b[0m: Invalid frequency: RTX",
      "\nDuring handling of the above exception, another exception occurred:\n",
      "\u001b[1;31mValueError\u001b[0m                                Traceback (most recent call last)",
      "\u001b[1;32m<ipython-input-85-c53e5f39ea86>\u001b[0m in \u001b[0;36m<module>\u001b[1;34m\u001b[0m\n\u001b[1;32m----> 1\u001b[1;33m \u001b[0myearly\u001b[0m \u001b[1;33m=\u001b[0m \u001b[0mdataset\u001b[0m\u001b[1;33m.\u001b[0m\u001b[0masfreq\u001b[0m\u001b[1;33m(\u001b[0m\u001b[1;34m'RTX'\u001b[0m\u001b[1;33m)\u001b[0m\u001b[1;33m\u001b[0m\u001b[1;33m\u001b[0m\u001b[0m\n\u001b[0m\u001b[0;32m      2\u001b[0m \u001b[0myearly\u001b[0m\u001b[1;33m[\u001b[0m\u001b[1;34m'Returns'\u001b[0m\u001b[1;33m]\u001b[0m \u001b[1;33m=\u001b[0m \u001b[0mdataset\u001b[0m\u001b[1;33m[\u001b[0m\u001b[1;34m'Adj Close'\u001b[0m\u001b[1;33m]\u001b[0m\u001b[1;33m.\u001b[0m\u001b[0mpct_change\u001b[0m\u001b[1;33m(\u001b[0m\u001b[1;33m)\u001b[0m\u001b[1;33m.\u001b[0m\u001b[0mdropna\u001b[0m\u001b[1;33m(\u001b[0m\u001b[1;33m)\u001b[0m\u001b[1;33m\u001b[0m\u001b[1;33m\u001b[0m\u001b[0m\n",
      "\u001b[1;32m~\\anaconda3\\lib\\site-packages\\pandas\\core\\generic.py\u001b[0m in \u001b[0;36masfreq\u001b[1;34m(self, freq, method, how, normalize, fill_value)\u001b[0m\n\u001b[0;32m   7673\u001b[0m         \u001b[1;32mfrom\u001b[0m \u001b[0mpandas\u001b[0m\u001b[1;33m.\u001b[0m\u001b[0mcore\u001b[0m\u001b[1;33m.\u001b[0m\u001b[0mresample\u001b[0m \u001b[1;32mimport\u001b[0m \u001b[0masfreq\u001b[0m\u001b[1;33m\u001b[0m\u001b[1;33m\u001b[0m\u001b[0m\n\u001b[0;32m   7674\u001b[0m \u001b[1;33m\u001b[0m\u001b[0m\n\u001b[1;32m-> 7675\u001b[1;33m         return asfreq(\n\u001b[0m\u001b[0;32m   7676\u001b[0m             \u001b[0mself\u001b[0m\u001b[1;33m,\u001b[0m\u001b[1;33m\u001b[0m\u001b[1;33m\u001b[0m\u001b[0m\n\u001b[0;32m   7677\u001b[0m             \u001b[0mfreq\u001b[0m\u001b[1;33m,\u001b[0m\u001b[1;33m\u001b[0m\u001b[1;33m\u001b[0m\u001b[0m\n",
      "\u001b[1;32m~\\anaconda3\\lib\\site-packages\\pandas\\core\\resample.py\u001b[0m in \u001b[0;36masfreq\u001b[1;34m(obj, freq, method, how, normalize, fill_value)\u001b[0m\n\u001b[0;32m   1791\u001b[0m \u001b[1;33m\u001b[0m\u001b[0m\n\u001b[0;32m   1792\u001b[0m     \u001b[1;32melse\u001b[0m\u001b[1;33m:\u001b[0m\u001b[1;33m\u001b[0m\u001b[1;33m\u001b[0m\u001b[0m\n\u001b[1;32m-> 1793\u001b[1;33m         \u001b[0mdti\u001b[0m \u001b[1;33m=\u001b[0m \u001b[0mdate_range\u001b[0m\u001b[1;33m(\u001b[0m\u001b[0mobj\u001b[0m\u001b[1;33m.\u001b[0m\u001b[0mindex\u001b[0m\u001b[1;33m[\u001b[0m\u001b[1;36m0\u001b[0m\u001b[1;33m]\u001b[0m\u001b[1;33m,\u001b[0m \u001b[0mobj\u001b[0m\u001b[1;33m.\u001b[0m\u001b[0mindex\u001b[0m\u001b[1;33m[\u001b[0m\u001b[1;33m-\u001b[0m\u001b[1;36m1\u001b[0m\u001b[1;33m]\u001b[0m\u001b[1;33m,\u001b[0m \u001b[0mfreq\u001b[0m\u001b[1;33m=\u001b[0m\u001b[0mfreq\u001b[0m\u001b[1;33m)\u001b[0m\u001b[1;33m\u001b[0m\u001b[1;33m\u001b[0m\u001b[0m\n\u001b[0m\u001b[0;32m   1794\u001b[0m         \u001b[0mdti\u001b[0m\u001b[1;33m.\u001b[0m\u001b[0mname\u001b[0m \u001b[1;33m=\u001b[0m \u001b[0mobj\u001b[0m\u001b[1;33m.\u001b[0m\u001b[0mindex\u001b[0m\u001b[1;33m.\u001b[0m\u001b[0mname\u001b[0m\u001b[1;33m\u001b[0m\u001b[1;33m\u001b[0m\u001b[0m\n\u001b[0;32m   1795\u001b[0m         \u001b[0mnew_obj\u001b[0m \u001b[1;33m=\u001b[0m \u001b[0mobj\u001b[0m\u001b[1;33m.\u001b[0m\u001b[0mreindex\u001b[0m\u001b[1;33m(\u001b[0m\u001b[0mdti\u001b[0m\u001b[1;33m,\u001b[0m \u001b[0mmethod\u001b[0m\u001b[1;33m=\u001b[0m\u001b[0mmethod\u001b[0m\u001b[1;33m,\u001b[0m \u001b[0mfill_value\u001b[0m\u001b[1;33m=\u001b[0m\u001b[0mfill_value\u001b[0m\u001b[1;33m)\u001b[0m\u001b[1;33m\u001b[0m\u001b[1;33m\u001b[0m\u001b[0m\n",
      "\u001b[1;32m~\\anaconda3\\lib\\site-packages\\pandas\\core\\indexes\\datetimes.py\u001b[0m in \u001b[0;36mdate_range\u001b[1;34m(start, end, periods, freq, tz, normalize, name, closed, **kwargs)\u001b[0m\n\u001b[0;32m   1170\u001b[0m         \u001b[0mfreq\u001b[0m \u001b[1;33m=\u001b[0m \u001b[1;34m\"D\"\u001b[0m\u001b[1;33m\u001b[0m\u001b[1;33m\u001b[0m\u001b[0m\n\u001b[0;32m   1171\u001b[0m \u001b[1;33m\u001b[0m\u001b[0m\n\u001b[1;32m-> 1172\u001b[1;33m     dtarr = DatetimeArray._generate_range(\n\u001b[0m\u001b[0;32m   1173\u001b[0m         \u001b[0mstart\u001b[0m\u001b[1;33m=\u001b[0m\u001b[0mstart\u001b[0m\u001b[1;33m,\u001b[0m\u001b[1;33m\u001b[0m\u001b[1;33m\u001b[0m\u001b[0m\n\u001b[0;32m   1174\u001b[0m         \u001b[0mend\u001b[0m\u001b[1;33m=\u001b[0m\u001b[0mend\u001b[0m\u001b[1;33m,\u001b[0m\u001b[1;33m\u001b[0m\u001b[1;33m\u001b[0m\u001b[0m\n",
      "\u001b[1;32m~\\anaconda3\\lib\\site-packages\\pandas\\core\\arrays\\datetimes.py\u001b[0m in \u001b[0;36m_generate_range\u001b[1;34m(cls, start, end, periods, freq, tz, normalize, ambiguous, nonexistent, closed)\u001b[0m\n\u001b[0;32m    360\u001b[0m                 \u001b[1;34m\"and freq, exactly three must be specified\"\u001b[0m\u001b[1;33m\u001b[0m\u001b[1;33m\u001b[0m\u001b[0m\n\u001b[0;32m    361\u001b[0m             )\n\u001b[1;32m--> 362\u001b[1;33m         \u001b[0mfreq\u001b[0m \u001b[1;33m=\u001b[0m \u001b[0mto_offset\u001b[0m\u001b[1;33m(\u001b[0m\u001b[0mfreq\u001b[0m\u001b[1;33m)\u001b[0m\u001b[1;33m\u001b[0m\u001b[1;33m\u001b[0m\u001b[0m\n\u001b[0m\u001b[0;32m    363\u001b[0m \u001b[1;33m\u001b[0m\u001b[0m\n\u001b[0;32m    364\u001b[0m         \u001b[1;32mif\u001b[0m \u001b[0mstart\u001b[0m \u001b[1;32mis\u001b[0m \u001b[1;32mnot\u001b[0m \u001b[1;32mNone\u001b[0m\u001b[1;33m:\u001b[0m\u001b[1;33m\u001b[0m\u001b[1;33m\u001b[0m\u001b[0m\n",
      "\u001b[1;32m~\\anaconda3\\lib\\site-packages\\pandas\\tseries\\frequencies.py\u001b[0m in \u001b[0;36mto_offset\u001b[1;34m(freq)\u001b[0m\n\u001b[0;32m    175\u001b[0m                     \u001b[0mdelta\u001b[0m \u001b[1;33m=\u001b[0m \u001b[0mdelta\u001b[0m \u001b[1;33m+\u001b[0m \u001b[0moffset\u001b[0m\u001b[1;33m\u001b[0m\u001b[1;33m\u001b[0m\u001b[0m\n\u001b[0;32m    176\u001b[0m         \u001b[1;32mexcept\u001b[0m \u001b[1;33m(\u001b[0m\u001b[0mValueError\u001b[0m\u001b[1;33m,\u001b[0m \u001b[0mTypeError\u001b[0m\u001b[1;33m)\u001b[0m\u001b[1;33m:\u001b[0m\u001b[1;33m\u001b[0m\u001b[1;33m\u001b[0m\u001b[0m\n\u001b[1;32m--> 177\u001b[1;33m             \u001b[1;32mraise\u001b[0m \u001b[0mValueError\u001b[0m\u001b[1;33m(\u001b[0m\u001b[0mlibfreqs\u001b[0m\u001b[1;33m.\u001b[0m\u001b[0mINVALID_FREQ_ERR_MSG\u001b[0m\u001b[1;33m.\u001b[0m\u001b[0mformat\u001b[0m\u001b[1;33m(\u001b[0m\u001b[0mfreq\u001b[0m\u001b[1;33m)\u001b[0m\u001b[1;33m)\u001b[0m\u001b[1;33m\u001b[0m\u001b[1;33m\u001b[0m\u001b[0m\n\u001b[0m\u001b[0;32m    178\u001b[0m \u001b[1;33m\u001b[0m\u001b[0m\n\u001b[0;32m    179\u001b[0m     \u001b[1;32mif\u001b[0m \u001b[0mdelta\u001b[0m \u001b[1;32mis\u001b[0m \u001b[1;32mNone\u001b[0m\u001b[1;33m:\u001b[0m\u001b[1;33m\u001b[0m\u001b[1;33m\u001b[0m\u001b[0m\n",
      "\u001b[1;31mValueError\u001b[0m: Invalid frequency: RTX"
     ]
    }
   ],
   "source": [
    "yearly = dataset.asfreq('RTX')\n",
    "yearly['Returns'] = dataset['Adj Close'].pct_change().dropna()"
   ]
  },
  {
   "cell_type": "code",
   "execution_count": 73,
   "metadata": {},
   "outputs": [],
   "source": [
    "yearly = yearly.reset_index()"
   ]
  },
  {
   "cell_type": "code",
   "execution_count": 74,
   "metadata": {},
   "outputs": [
    {
     "ename": "AttributeError",
     "evalue": "Can only use .dt accessor with datetimelike values",
     "output_type": "error",
     "traceback": [
      "\u001b[1;31m---------------------------------------------------------------------------\u001b[0m",
      "\u001b[1;31mAttributeError\u001b[0m                            Traceback (most recent call last)",
      "\u001b[1;32m<ipython-input-74-9b735966cddd>\u001b[0m in \u001b[0;36m<module>\u001b[1;34m\u001b[0m\n\u001b[1;32m----> 1\u001b[1;33m \u001b[0myearly\u001b[0m\u001b[1;33m[\u001b[0m\u001b[1;34m'Years'\u001b[0m\u001b[1;33m]\u001b[0m \u001b[1;33m=\u001b[0m \u001b[0myearly\u001b[0m\u001b[1;33m[\u001b[0m\u001b[1;34m'Date'\u001b[0m\u001b[1;33m]\u001b[0m\u001b[1;33m.\u001b[0m\u001b[0mdt\u001b[0m\u001b[1;33m.\u001b[0m\u001b[0myear\u001b[0m\u001b[1;33m\u001b[0m\u001b[1;33m\u001b[0m\u001b[0m\n\u001b[0m",
      "\u001b[1;32m~\\anaconda3\\lib\\site-packages\\pandas\\core\\generic.py\u001b[0m in \u001b[0;36m__getattr__\u001b[1;34m(self, name)\u001b[0m\n\u001b[0;32m   5268\u001b[0m             \u001b[1;32mor\u001b[0m \u001b[0mname\u001b[0m \u001b[1;32min\u001b[0m \u001b[0mself\u001b[0m\u001b[1;33m.\u001b[0m\u001b[0m_accessors\u001b[0m\u001b[1;33m\u001b[0m\u001b[1;33m\u001b[0m\u001b[0m\n\u001b[0;32m   5269\u001b[0m         ):\n\u001b[1;32m-> 5270\u001b[1;33m             \u001b[1;32mreturn\u001b[0m \u001b[0mobject\u001b[0m\u001b[1;33m.\u001b[0m\u001b[0m__getattribute__\u001b[0m\u001b[1;33m(\u001b[0m\u001b[0mself\u001b[0m\u001b[1;33m,\u001b[0m \u001b[0mname\u001b[0m\u001b[1;33m)\u001b[0m\u001b[1;33m\u001b[0m\u001b[1;33m\u001b[0m\u001b[0m\n\u001b[0m\u001b[0;32m   5271\u001b[0m         \u001b[1;32melse\u001b[0m\u001b[1;33m:\u001b[0m\u001b[1;33m\u001b[0m\u001b[1;33m\u001b[0m\u001b[0m\n\u001b[0;32m   5272\u001b[0m             \u001b[1;32mif\u001b[0m \u001b[0mself\u001b[0m\u001b[1;33m.\u001b[0m\u001b[0m_info_axis\u001b[0m\u001b[1;33m.\u001b[0m\u001b[0m_can_hold_identifiers_and_holds_name\u001b[0m\u001b[1;33m(\u001b[0m\u001b[0mname\u001b[0m\u001b[1;33m)\u001b[0m\u001b[1;33m:\u001b[0m\u001b[1;33m\u001b[0m\u001b[1;33m\u001b[0m\u001b[0m\n",
      "\u001b[1;32m~\\anaconda3\\lib\\site-packages\\pandas\\core\\accessor.py\u001b[0m in \u001b[0;36m__get__\u001b[1;34m(self, obj, cls)\u001b[0m\n\u001b[0;32m    185\u001b[0m             \u001b[1;31m# we're accessing the attribute of the class, i.e., Dataset.geo\u001b[0m\u001b[1;33m\u001b[0m\u001b[1;33m\u001b[0m\u001b[1;33m\u001b[0m\u001b[0m\n\u001b[0;32m    186\u001b[0m             \u001b[1;32mreturn\u001b[0m \u001b[0mself\u001b[0m\u001b[1;33m.\u001b[0m\u001b[0m_accessor\u001b[0m\u001b[1;33m\u001b[0m\u001b[1;33m\u001b[0m\u001b[0m\n\u001b[1;32m--> 187\u001b[1;33m         \u001b[0maccessor_obj\u001b[0m \u001b[1;33m=\u001b[0m \u001b[0mself\u001b[0m\u001b[1;33m.\u001b[0m\u001b[0m_accessor\u001b[0m\u001b[1;33m(\u001b[0m\u001b[0mobj\u001b[0m\u001b[1;33m)\u001b[0m\u001b[1;33m\u001b[0m\u001b[1;33m\u001b[0m\u001b[0m\n\u001b[0m\u001b[0;32m    188\u001b[0m         \u001b[1;31m# Replace the property with the accessor object. Inspired by:\u001b[0m\u001b[1;33m\u001b[0m\u001b[1;33m\u001b[0m\u001b[1;33m\u001b[0m\u001b[0m\n\u001b[0;32m    189\u001b[0m         \u001b[1;31m# http://www.pydanny.com/cached-property.html\u001b[0m\u001b[1;33m\u001b[0m\u001b[1;33m\u001b[0m\u001b[1;33m\u001b[0m\u001b[0m\n",
      "\u001b[1;32m~\\anaconda3\\lib\\site-packages\\pandas\\core\\indexes\\accessors.py\u001b[0m in \u001b[0;36m__new__\u001b[1;34m(cls, data)\u001b[0m\n\u001b[0;32m    336\u001b[0m             \u001b[1;32mreturn\u001b[0m \u001b[0mDatetimeProperties\u001b[0m\u001b[1;33m(\u001b[0m\u001b[0mdata\u001b[0m\u001b[1;33m,\u001b[0m \u001b[0morig\u001b[0m\u001b[1;33m)\u001b[0m\u001b[1;33m\u001b[0m\u001b[1;33m\u001b[0m\u001b[0m\n\u001b[0;32m    337\u001b[0m \u001b[1;33m\u001b[0m\u001b[0m\n\u001b[1;32m--> 338\u001b[1;33m         \u001b[1;32mraise\u001b[0m \u001b[0mAttributeError\u001b[0m\u001b[1;33m(\u001b[0m\u001b[1;34m\"Can only use .dt accessor with datetimelike values\"\u001b[0m\u001b[1;33m)\u001b[0m\u001b[1;33m\u001b[0m\u001b[1;33m\u001b[0m\u001b[0m\n\u001b[0m",
      "\u001b[1;31mAttributeError\u001b[0m: Can only use .dt accessor with datetimelike values"
     ]
    }
   ],
   "source": [
    "yearly['Years'] = yearly['Date'].dt.year"
   ]
  },
  {
   "cell_type": "code",
   "execution_count": 75,
   "metadata": {},
   "outputs": [
    {
     "ename": "SyntaxError",
     "evalue": "unexpected EOF while parsing (<ipython-input-75-5b44aee31517>, line 6)",
     "output_type": "error",
     "traceback": [
      "\u001b[1;36m  File \u001b[1;32m\"<ipython-input-75-5b44aee31517>\"\u001b[1;36m, line \u001b[1;32m6\u001b[0m\n\u001b[1;33m    yearly['Date'] = yearly['Date'].apply(mdates.date2n\u001b[0m\n\u001b[1;37m                                                       ^\u001b[0m\n\u001b[1;31mSyntaxError\u001b[0m\u001b[1;31m:\u001b[0m unexpected EOF while parsing\n"
     ]
    }
   ],
   "source": [
    "from matplotlib import dates as mdates\n",
    "import datetime as dt\n",
    "\n",
    "yearly['ReturnsPositive'] = 0 < yearly['Returns']\n",
    "yearly['Date'] = pd.to_datetime(yearly['Date'])\n",
    "yearly['Date'] = yearly['Date'].apply(mdates.date2n"
   ]
  },
  {
   "cell_type": "code",
   "execution_count": 76,
   "metadata": {},
   "outputs": [
    {
     "data": {
      "text/html": [
       "<div>\n",
       "<style scoped>\n",
       "    .dataframe tbody tr th:only-of-type {\n",
       "        vertical-align: middle;\n",
       "    }\n",
       "\n",
       "    .dataframe tbody tr th {\n",
       "        vertical-align: top;\n",
       "    }\n",
       "\n",
       "    .dataframe thead th {\n",
       "        text-align: right;\n",
       "    }\n",
       "</style>\n",
       "<table border=\"1\" class=\"dataframe\">\n",
       "  <thead>\n",
       "    <tr style=\"text-align: right;\">\n",
       "      <th></th>\n",
       "      <th>index</th>\n",
       "      <th>Date</th>\n",
       "      <th>Open</th>\n",
       "      <th>High</th>\n",
       "      <th>Low</th>\n",
       "      <th>Close</th>\n",
       "      <th>Adj Close</th>\n",
       "      <th>Volume</th>\n",
       "      <th>Returns</th>\n",
       "      <th>Years</th>\n",
       "      <th>ReturnsPositive</th>\n",
       "    </tr>\n",
       "  </thead>\n",
       "  <tbody>\n",
       "    <tr>\n",
       "      <th>0</th>\n",
       "      <td>0</td>\n",
       "      <td>734137.0</td>\n",
       "      <td>58.203468</td>\n",
       "      <td>58.628117</td>\n",
       "      <td>57.986629</td>\n",
       "      <td>58.528728</td>\n",
       "      <td>47.198536</td>\n",
       "      <td>1192900</td>\n",
       "      <td>0.005276</td>\n",
       "      <td>2010</td>\n",
       "      <td>True</td>\n",
       "    </tr>\n",
       "    <tr>\n",
       "      <th>1</th>\n",
       "      <td>1</td>\n",
       "      <td>734501.0</td>\n",
       "      <td>58.770000</td>\n",
       "      <td>59.150002</td>\n",
       "      <td>58.459999</td>\n",
       "      <td>58.480000</td>\n",
       "      <td>48.804790</td>\n",
       "      <td>1049000</td>\n",
       "      <td>-0.006962</td>\n",
       "      <td>2011</td>\n",
       "      <td>False</td>\n",
       "    </tr>\n",
       "    <tr>\n",
       "      <th>2</th>\n",
       "      <td>2</td>\n",
       "      <td>734868.0</td>\n",
       "      <td>66.510002</td>\n",
       "      <td>67.709999</td>\n",
       "      <td>65.870003</td>\n",
       "      <td>67.580002</td>\n",
       "      <td>58.366062</td>\n",
       "      <td>1682200</td>\n",
       "      <td>0.012283</td>\n",
       "      <td>2012</td>\n",
       "      <td>True</td>\n",
       "    </tr>\n",
       "    <tr>\n",
       "      <th>3</th>\n",
       "      <td>3</td>\n",
       "      <td>735233.0</td>\n",
       "      <td>114.250000</td>\n",
       "      <td>114.779999</td>\n",
       "      <td>113.849998</td>\n",
       "      <td>114.610001</td>\n",
       "      <td>101.793770</td>\n",
       "      <td>965800</td>\n",
       "      <td>0.005969</td>\n",
       "      <td>2013</td>\n",
       "      <td>True</td>\n",
       "    </tr>\n",
       "    <tr>\n",
       "      <th>4</th>\n",
       "      <td>4</td>\n",
       "      <td>735598.0</td>\n",
       "      <td>150.750000</td>\n",
       "      <td>151.210007</td>\n",
       "      <td>147.229996</td>\n",
       "      <td>147.389999</td>\n",
       "      <td>133.745926</td>\n",
       "      <td>1600600</td>\n",
       "      <td>-0.022353</td>\n",
       "      <td>2014</td>\n",
       "      <td>False</td>\n",
       "    </tr>\n",
       "    <tr>\n",
       "      <th>5</th>\n",
       "      <td>5</td>\n",
       "      <td>735963.0</td>\n",
       "      <td>189.460007</td>\n",
       "      <td>190.649994</td>\n",
       "      <td>187.550003</td>\n",
       "      <td>188.809998</td>\n",
       "      <td>174.501663</td>\n",
       "      <td>550600</td>\n",
       "      <td>-0.006682</td>\n",
       "      <td>2015</td>\n",
       "      <td>False</td>\n",
       "    </tr>\n",
       "    <tr>\n",
       "      <th>6</th>\n",
       "      <td>6</td>\n",
       "      <td>736328.0</td>\n",
       "      <td>232.880005</td>\n",
       "      <td>233.339996</td>\n",
       "      <td>231.710007</td>\n",
       "      <td>232.580002</td>\n",
       "      <td>218.477615</td>\n",
       "      <td>740900</td>\n",
       "      <td>-0.000215</td>\n",
       "      <td>2016</td>\n",
       "      <td>False</td>\n",
       "    </tr>\n",
       "    <tr>\n",
       "      <th>7</th>\n",
       "      <td>7</td>\n",
       "      <td>736692.0</td>\n",
       "      <td>308.250000</td>\n",
       "      <td>309.190002</td>\n",
       "      <td>306.910004</td>\n",
       "      <td>306.910004</td>\n",
       "      <td>292.508423</td>\n",
       "      <td>430900</td>\n",
       "      <td>-0.004476</td>\n",
       "      <td>2017</td>\n",
       "      <td>False</td>\n",
       "    </tr>\n",
       "    <tr>\n",
       "      <th>8</th>\n",
       "      <td>8</td>\n",
       "      <td>737059.0</td>\n",
       "      <td>243.309998</td>\n",
       "      <td>246.919998</td>\n",
       "      <td>241.720001</td>\n",
       "      <td>244.899994</td>\n",
       "      <td>237.071686</td>\n",
       "      <td>1111700</td>\n",
       "      <td>0.010939</td>\n",
       "      <td>2018</td>\n",
       "      <td>True</td>\n",
       "    </tr>\n",
       "    <tr>\n",
       "      <th>9</th>\n",
       "      <td>9</td>\n",
       "      <td>737424.0</td>\n",
       "      <td>348.269989</td>\n",
       "      <td>348.980011</td>\n",
       "      <td>342.730011</td>\n",
       "      <td>343.970001</td>\n",
       "      <td>338.274017</td>\n",
       "      <td>907800</td>\n",
       "      <td>-0.014610</td>\n",
       "      <td>2019</td>\n",
       "      <td>False</td>\n",
       "    </tr>\n",
       "  </tbody>\n",
       "</table>\n",
       "</div>"
      ],
      "text/plain": [
       "   index      Date        Open        High         Low       Close  \\\n",
       "0      0  734137.0   58.203468   58.628117   57.986629   58.528728   \n",
       "1      1  734501.0   58.770000   59.150002   58.459999   58.480000   \n",
       "2      2  734868.0   66.510002   67.709999   65.870003   67.580002   \n",
       "3      3  735233.0  114.250000  114.779999  113.849998  114.610001   \n",
       "4      4  735598.0  150.750000  151.210007  147.229996  147.389999   \n",
       "5      5  735963.0  189.460007  190.649994  187.550003  188.809998   \n",
       "6      6  736328.0  232.880005  233.339996  231.710007  232.580002   \n",
       "7      7  736692.0  308.250000  309.190002  306.910004  306.910004   \n",
       "8      8  737059.0  243.309998  246.919998  241.720001  244.899994   \n",
       "9      9  737424.0  348.269989  348.980011  342.730011  343.970001   \n",
       "\n",
       "    Adj Close   Volume   Returns  Years  ReturnsPositive  \n",
       "0   47.198536  1192900  0.005276   2010             True  \n",
       "1   48.804790  1049000 -0.006962   2011            False  \n",
       "2   58.366062  1682200  0.012283   2012             True  \n",
       "3  101.793770   965800  0.005969   2013             True  \n",
       "4  133.745926  1600600 -0.022353   2014            False  \n",
       "5  174.501663   550600 -0.006682   2015            False  \n",
       "6  218.477615   740900 -0.000215   2016            False  \n",
       "7  292.508423   430900 -0.004476   2017            False  \n",
       "8  237.071686  1111700  0.010939   2018             True  \n",
       "9  338.274017   907800 -0.014610   2019            False  "
      ]
     },
     "execution_count": 76,
     "metadata": {},
     "output_type": "execute_result"
    }
   ],
   "source": [
    "yearly"
   ]
  },
  {
   "cell_type": "code",
   "execution_count": 77,
   "metadata": {},
   "outputs": [],
   "source": [
    "dataset['Returns'] = dataset['Adj Close'].pct_change().dropna()"
   ]
  },
  {
   "cell_type": "code",
   "execution_count": 78,
   "metadata": {},
   "outputs": [],
   "source": [
    "yearly_returns_avg = dataset['Returns'].groupby([dataset.index.year]).mean()"
   ]
  },
  {
   "cell_type": "code",
   "execution_count": 79,
   "metadata": {},
   "outputs": [
    {
     "data": {
      "text/plain": [
       "Date\n",
       "2010    0.000557\n",
       "2011   -0.000049\n",
       "2012    0.000639\n",
       "2013    0.001436\n",
       "2014    0.000172\n",
       "2015   -0.000543\n",
       "2016    0.000687\n",
       "2017    0.000732\n",
       "2018   -0.000532\n",
       "2019    0.001529\n",
       "2020   -0.000337\n",
       "Name: Returns, dtype: float64"
      ]
     },
     "execution_count": 79,
     "metadata": {},
     "output_type": "execute_result"
    }
   ],
   "source": [
    "yearly_returns_avg"
   ]
  },
  {
   "cell_type": "code",
   "execution_count": 82,
   "metadata": {},
   "outputs": [
    {
     "data": {
      "image/png": "[encoded data removed]",
      "text/plain": [
       "<Figure size 1000x500 with 1 Axes>"
      ]
     },
     "metadata": {},
     "output_type": "display_data"
    }
   ],
   "source": [
    "colors = yearly.ReturnsPositive.map({True: 'g', False: 'r'})\n",
    "plt.figure(figsize=(10,5))\n",
    "plt.bar(yearly['Years'], yearly['Returns'], color=colors, align='center')\n",
    "plt.plot(yearly_returns_avg, marker='o', color='b')\n",
    "plt.title('RTX Yearly Returns')\n",
    "plt.xlabel('Date')\n",
    "plt.ylabel('Returns')\n",
    "plt.savefig('stanalysis\\static\\RTX_Yearly_Returns_Chart.png')\n",
    "plt.show()"
   ]
  },
  {
   "cell_type": "markdown",
   "metadata": {},
   "source": [
    "# Lockheed Analysis"
   ]
  },
  {
   "cell_type": "code",
   "execution_count": 86,
   "metadata": {},
   "outputs": [
    {
     "name": "stdout",
     "output_type": "stream",
     "text": [
      "[*********************100%***********************]  1 of 1 completed\n",
      "[*********************100%***********************]  1 of 1 completed\n"
     ]
    },
    {
     "data": {
      "text/html": [
       "<div>\n",
       "<style scoped>\n",
       "    .dataframe tbody tr th:only-of-type {\n",
       "        vertical-align: middle;\n",
       "    }\n",
       "\n",
       "    .dataframe tbody tr th {\n",
       "        vertical-align: top;\n",
       "    }\n",
       "\n",
       "    .dataframe thead th {\n",
       "        text-align: right;\n",
       "    }\n",
       "</style>\n",
       "<table border=\"1\" class=\"dataframe\">\n",
       "  <thead>\n",
       "    <tr style=\"text-align: right;\">\n",
       "      <th></th>\n",
       "      <th>Open</th>\n",
       "      <th>High</th>\n",
       "      <th>Low</th>\n",
       "      <th>Close</th>\n",
       "      <th>Adj Close</th>\n",
       "      <th>Volume</th>\n",
       "    </tr>\n",
       "    <tr>\n",
       "      <th>Date</th>\n",
       "      <th></th>\n",
       "      <th></th>\n",
       "      <th></th>\n",
       "      <th></th>\n",
       "      <th></th>\n",
       "      <th></th>\n",
       "    </tr>\n",
       "  </thead>\n",
       "  <tbody>\n",
       "    <tr>\n",
       "      <th>2010-01-04</th>\n",
       "      <td>75.870003</td>\n",
       "      <td>76.949997</td>\n",
       "      <td>75.519997</td>\n",
       "      <td>76.849998</td>\n",
       "      <td>53.261395</td>\n",
       "      <td>2408300</td>\n",
       "    </tr>\n",
       "    <tr>\n",
       "      <th>2010-01-05</th>\n",
       "      <td>76.620003</td>\n",
       "      <td>77.790001</td>\n",
       "      <td>76.550003</td>\n",
       "      <td>77.650002</td>\n",
       "      <td>53.815838</td>\n",
       "      <td>2356500</td>\n",
       "    </tr>\n",
       "    <tr>\n",
       "      <th>2010-01-06</th>\n",
       "      <td>76.099998</td>\n",
       "      <td>77.190002</td>\n",
       "      <td>75.849998</td>\n",
       "      <td>76.510002</td>\n",
       "      <td>53.025768</td>\n",
       "      <td>5208100</td>\n",
       "    </tr>\n",
       "    <tr>\n",
       "      <th>2010-01-07</th>\n",
       "      <td>76.169998</td>\n",
       "      <td>76.199997</td>\n",
       "      <td>73.610001</td>\n",
       "      <td>74.410004</td>\n",
       "      <td>51.570324</td>\n",
       "      <td>7038300</td>\n",
       "    </tr>\n",
       "    <tr>\n",
       "      <th>2010-01-08</th>\n",
       "      <td>74.349998</td>\n",
       "      <td>75.940002</td>\n",
       "      <td>74.320000</td>\n",
       "      <td>75.610001</td>\n",
       "      <td>52.402020</td>\n",
       "      <td>3629400</td>\n",
       "    </tr>\n",
       "  </tbody>\n",
       "</table>\n",
       "</div>"
      ],
      "text/plain": [
       "                 Open       High        Low      Close  Adj Close   Volume\n",
       "Date                                                                      \n",
       "2010-01-04  75.870003  76.949997  75.519997  76.849998  53.261395  2408300\n",
       "2010-01-05  76.620003  77.790001  76.550003  77.650002  53.815838  2356500\n",
       "2010-01-06  76.099998  77.190002  75.849998  76.510002  53.025768  5208100\n",
       "2010-01-07  76.169998  76.199997  73.610001  74.410004  51.570324  7038300\n",
       "2010-01-08  74.349998  75.940002  74.320000  75.610001  52.402020  3629400"
      ]
     },
     "execution_count": 86,
     "metadata": {},
     "output_type": "execute_result"
    }
   ],
   "source": [
    "# input\n",
    "symbol = 'lmt'\n",
    "start = '2010-01-02'\n",
    "end = '2020-12-31'\n",
    "\n",
    "# Read data \n",
    "data = yf.download(symbol,start,end)\n",
    "\n",
    "# Read data \n",
    "dataset = yf.download(symbol,start,end)\n",
    "\n",
    "# View Data\n",
    "dataset.head()\n",
    "\n",
    "# View Columns\n",
    "data.head()\n"
   ]
  },
  {
   "cell_type": "code",
   "execution_count": 87,
   "metadata": {},
   "outputs": [
    {
     "data": {
      "text/html": [
       "<div>\n",
       "<style scoped>\n",
       "    .dataframe tbody tr th:only-of-type {\n",
       "        vertical-align: middle;\n",
       "    }\n",
       "\n",
       "    .dataframe tbody tr th {\n",
       "        vertical-align: top;\n",
       "    }\n",
       "\n",
       "    .dataframe thead th {\n",
       "        text-align: right;\n",
       "    }\n",
       "</style>\n",
       "<table border=\"1\" class=\"dataframe\">\n",
       "  <thead>\n",
       "    <tr style=\"text-align: right;\">\n",
       "      <th></th>\n",
       "      <th>Open</th>\n",
       "      <th>High</th>\n",
       "      <th>Low</th>\n",
       "      <th>Close</th>\n",
       "      <th>Adj Close</th>\n",
       "      <th>Volume</th>\n",
       "    </tr>\n",
       "    <tr>\n",
       "      <th>Date</th>\n",
       "      <th></th>\n",
       "      <th></th>\n",
       "      <th></th>\n",
       "      <th></th>\n",
       "      <th></th>\n",
       "      <th></th>\n",
       "    </tr>\n",
       "  </thead>\n",
       "  <tbody>\n",
       "    <tr>\n",
       "      <th>2020-12-23</th>\n",
       "      <td>349.950012</td>\n",
       "      <td>355.000000</td>\n",
       "      <td>349.399994</td>\n",
       "      <td>351.600006</td>\n",
       "      <td>351.600006</td>\n",
       "      <td>1307500</td>\n",
       "    </tr>\n",
       "    <tr>\n",
       "      <th>2020-12-24</th>\n",
       "      <td>352.829987</td>\n",
       "      <td>354.059998</td>\n",
       "      <td>350.399994</td>\n",
       "      <td>351.970001</td>\n",
       "      <td>351.970001</td>\n",
       "      <td>508800</td>\n",
       "    </tr>\n",
       "    <tr>\n",
       "      <th>2020-12-28</th>\n",
       "      <td>353.109985</td>\n",
       "      <td>357.820007</td>\n",
       "      <td>351.709991</td>\n",
       "      <td>354.179993</td>\n",
       "      <td>354.179993</td>\n",
       "      <td>1023400</td>\n",
       "    </tr>\n",
       "    <tr>\n",
       "      <th>2020-12-29</th>\n",
       "      <td>356.000000</td>\n",
       "      <td>357.350006</td>\n",
       "      <td>351.799988</td>\n",
       "      <td>353.899994</td>\n",
       "      <td>353.899994</td>\n",
       "      <td>1055900</td>\n",
       "    </tr>\n",
       "    <tr>\n",
       "      <th>2020-12-30</th>\n",
       "      <td>353.000000</td>\n",
       "      <td>356.609985</td>\n",
       "      <td>353.000000</td>\n",
       "      <td>354.160004</td>\n",
       "      <td>354.160004</td>\n",
       "      <td>840800</td>\n",
       "    </tr>\n",
       "  </tbody>\n",
       "</table>\n",
       "</div>"
      ],
      "text/plain": [
       "                  Open        High         Low       Close   Adj Close  \\\n",
       "Date                                                                     \n",
       "2020-12-23  349.950012  355.000000  349.399994  351.600006  351.600006   \n",
       "2020-12-24  352.829987  354.059998  350.399994  351.970001  351.970001   \n",
       "2020-12-28  353.109985  357.820007  351.709991  354.179993  354.179993   \n",
       "2020-12-29  356.000000  357.350006  351.799988  353.899994  353.899994   \n",
       "2020-12-30  353.000000  356.609985  353.000000  354.160004  354.160004   \n",
       "\n",
       "             Volume  \n",
       "Date                 \n",
       "2020-12-23  1307500  \n",
       "2020-12-24   508800  \n",
       "2020-12-28  1023400  \n",
       "2020-12-29  1055900  \n",
       "2020-12-30   840800  "
      ]
     },
     "execution_count": 87,
     "metadata": {},
     "output_type": "execute_result"
    }
   ],
   "source": [
    "dataset.tail()"
   ]
  },
  {
   "cell_type": "code",
   "execution_count": 88,
   "metadata": {},
   "outputs": [
    {
     "data": {
      "image/png": "[encoded data removed]",
      "text/plain": [
       "<Figure size 1600x800 with 1 Axes>"
      ]
     },
     "metadata": {},
     "output_type": "display_data"
    }
   ],
   "source": [
    "plt.figure(figsize=(16,8))\n",
    "plt.plot(dataset['Adj Close'])\n",
    "plt.title('Lockheed Closing Price Chart')\n",
    "plt.xlabel('Date')\n",
    "plt.ylabel('Price')\n",
    "plt.grid(True)\n",
    "plt.show()"
   ]
  },
  {
   "cell_type": "code",
   "execution_count": 89,
   "metadata": {},
   "outputs": [
    {
     "data": {
      "image/png": "[encoded data removed]",
      "text/plain": [
       "<Figure size 1000x500 with 1 Axes>"
      ]
     },
     "metadata": {},
     "output_type": "display_data"
    }
   ],
   "source": [
    "colors = yearly.ReturnsPositive.map({True: 'g', False: 'r'})\n",
    "plt.figure(figsize=(10,5))\n",
    "plt.bar(yearly['Years'], yearly['Returns'], color=colors, align='center')\n",
    "plt.plot(yearly_returns_avg, marker='o', color='b')\n",
    "plt.title('Lockheed Yearly Returns')\n",
    "plt.xlabel('Date')\n",
    "plt.ylabel('Returns')\n",
    "plt.savefig('stanalysis\\static\\Lockheed_Yearly_Returns_Chart.png')\n",
    "plt.show()"
   ]
  },
  {
   "cell_type": "markdown",
   "metadata": {},
   "source": [
    "# Plot 2020 only¶"
   ]
  },
  {
   "cell_type": "code",
   "execution_count": null,
   "metadata": {},
   "outputs": [],
   "source": [
    "new_dates = df['2020-01-01':'2020-12-31']\n",
    "new_dates.head()"
   ]
  },
  {
   "cell_type": "code",
   "execution_count": null,
   "metadata": {},
   "outputs": [],
   "source": [
    "import matplotlib.pyplot as plt\n",
    "fig, ax = plt.subplots(figsize=(16,9))\n",
    "\n",
    "ax.plot(df.index, df['Adj Close'], label='Price')\n",
    "ax.plot(df.index, df['SMA_20'], label = '20-days SMA')\n",
    "ax.plot(df.index, df['SMA_40'], label = '40-days SMA')\n",
    "ax.plot(df.index, df['SMA_80'], label = '80-days SMA')\n",
    "\n",
    "ax.legend(loc='best')\n",
    "ax.set_ylabel('Price')\n",
    "ax.set_title('Stock Moving Average Trading Strategy')"
   ]
  },
  {
   "cell_type": "code",
   "execution_count": null,
   "metadata": {},
   "outputs": [],
   "source": [
    "plt.figure(figsize=(16,10))\n",
    "plt.plot_date(x=new_dates.index ,y=new_dates['Adj Close'], label='Price')\n",
    "plt.plot(new_dates['SMA_20'], label = '20-days SMA')\n",
    "plt.plot(new_dates['SMA_40'], label = '40-days SMA')\n",
    "plt.plot(new_dates['SMA_80'], label = '80-days SMA')\n",
    "plt.legend(loc='best')\n",
    "plt.grid(True)\n",
    "plt.ylabel('Price')\n",
    "plt.xlabel('Dates')\n",
    "plt.title('Stock Moving Average Trading Strategy')"
   ]
  },
  {
   "cell_type": "markdown",
   "metadata": {},
   "source": [
    "# LeGrand S.A. Analysis"
   ]
  },
  {
   "cell_type": "code",
   "execution_count": null,
   "metadata": {},
   "outputs": [],
   "source": [
    "# input\n",
    "symbol = 'LGRVF'\n",
    "start = '2010-01-02'\n",
    "end = '2020-12-31'\n",
    " \n",
    "# Read data \n",
    "dataset = yf.download(symbol,start,end)\n",
    "\n",
    "# View Data\n",
    "dataset.head()\n",
    "\n",
    "# View Columns\n",
    "data.head()\n"
   ]
  },
  {
   "cell_type": "code",
   "execution_count": null,
   "metadata": {},
   "outputs": [],
   "source": [
    "dataset.tail()"
   ]
  },
  {
   "cell_type": "code",
   "execution_count": null,
   "metadata": {},
   "outputs": [],
   "source": [
    "plt.figure(figsize=(16,8))\n",
    "plt.plot(dataset['Adj Close'])\n",
    "plt.title('LeGrand Closing Price Chart')\n",
    "plt.xlabel('Date')\n",
    "plt.ylabel('Price')\n",
    "plt.grid(True)\n",
    "plt.show()"
   ]
  },
  {
   "cell_type": "markdown",
   "metadata": {},
   "source": [
    "# Plot 2020 only¶"
   ]
  },
  {
   "cell_type": "code",
   "execution_count": null,
   "metadata": {},
   "outputs": [],
   "source": [
    "new_dates = df['2020-01-01':'2020-12-31']\n",
    "new_dates.head()"
   ]
  },
  {
   "cell_type": "code",
   "execution_count": null,
   "metadata": {},
   "outputs": [],
   "source": [
    "plt.figure(figsize=(16,10))\n",
    "plt.plot(new_dates['Adj Close'], label='Price')\n",
    "plt.plot(new_dates['SMA_20'], label = '20-days SMA')\n",
    "plt.plot(new_dates['SMA_40'], label = '40-days SMA')\n",
    "plt.plot(new_dates['SMA_80'], label = '80-days SMA')\n",
    "plt.legend(loc='best')\n",
    "plt.grid(True)\n",
    "plt.ylabel('Price')\n",
    "plt.xlabel('Dates')\n",
    "plt.title('Stock Moving Average Trading Strategy')"
   ]
  },
  {
   "cell_type": "code",
   "execution_count": null,
   "metadata": {},
   "outputs": [],
   "source": [
    "plt.figure(figsize=(16,10))\n",
    "plt.plot_date(x=new_dates.index ,y=new_dates['Adj Close'], label='Price')\n",
    "plt.plot(new_dates['SMA_20'], label = '20-days SMA')\n",
    "plt.plot(new_dates['SMA_40'], label = '40-days SMA')\n",
    "plt.plot(new_dates['SMA_80'], label = '80-days SMA')\n",
    "plt.legend(loc='best')\n",
    "plt.grid(True)\n",
    "plt.ylabel('Price')\n",
    "plt.xlabel('Dates')\n",
    "plt.title('Stock Moving Average Trading Strategy')"
   ]
  },
  {
   "cell_type": "markdown",
   "metadata": {},
   "source": [
    "# General Dynamics Analysis"
   ]
  },
  {
   "cell_type": "code",
   "execution_count": 97,
   "metadata": {},
   "outputs": [
    {
     "name": "stdout",
     "output_type": "stream",
     "text": [
      "[*********************100%***********************]  1 of 1 completed\n"
     ]
    },
    {
     "data": {
      "text/html": [
       "<div>\n",
       "<style scoped>\n",
       "    .dataframe tbody tr th:only-of-type {\n",
       "        vertical-align: middle;\n",
       "    }\n",
       "\n",
       "    .dataframe tbody tr th {\n",
       "        vertical-align: top;\n",
       "    }\n",
       "\n",
       "    .dataframe thead th {\n",
       "        text-align: right;\n",
       "    }\n",
       "</style>\n",
       "<table border=\"1\" class=\"dataframe\">\n",
       "  <thead>\n",
       "    <tr style=\"text-align: right;\">\n",
       "      <th></th>\n",
       "      <th>Open</th>\n",
       "      <th>High</th>\n",
       "      <th>Low</th>\n",
       "      <th>Close</th>\n",
       "      <th>Adj Close</th>\n",
       "      <th>Volume</th>\n",
       "    </tr>\n",
       "    <tr>\n",
       "      <th>Date</th>\n",
       "      <th></th>\n",
       "      <th></th>\n",
       "      <th></th>\n",
       "      <th></th>\n",
       "      <th></th>\n",
       "      <th></th>\n",
       "    </tr>\n",
       "  </thead>\n",
       "  <tbody>\n",
       "    <tr>\n",
       "      <th>2010-01-04</th>\n",
       "      <td>75.870003</td>\n",
       "      <td>76.949997</td>\n",
       "      <td>75.519997</td>\n",
       "      <td>76.849998</td>\n",
       "      <td>53.261395</td>\n",
       "      <td>2408300</td>\n",
       "    </tr>\n",
       "    <tr>\n",
       "      <th>2010-01-05</th>\n",
       "      <td>76.620003</td>\n",
       "      <td>77.790001</td>\n",
       "      <td>76.550003</td>\n",
       "      <td>77.650002</td>\n",
       "      <td>53.815838</td>\n",
       "      <td>2356500</td>\n",
       "    </tr>\n",
       "    <tr>\n",
       "      <th>2010-01-06</th>\n",
       "      <td>76.099998</td>\n",
       "      <td>77.190002</td>\n",
       "      <td>75.849998</td>\n",
       "      <td>76.510002</td>\n",
       "      <td>53.025768</td>\n",
       "      <td>5208100</td>\n",
       "    </tr>\n",
       "    <tr>\n",
       "      <th>2010-01-07</th>\n",
       "      <td>76.169998</td>\n",
       "      <td>76.199997</td>\n",
       "      <td>73.610001</td>\n",
       "      <td>74.410004</td>\n",
       "      <td>51.570324</td>\n",
       "      <td>7038300</td>\n",
       "    </tr>\n",
       "    <tr>\n",
       "      <th>2010-01-08</th>\n",
       "      <td>74.349998</td>\n",
       "      <td>75.940002</td>\n",
       "      <td>74.320000</td>\n",
       "      <td>75.610001</td>\n",
       "      <td>52.402020</td>\n",
       "      <td>3629400</td>\n",
       "    </tr>\n",
       "  </tbody>\n",
       "</table>\n",
       "</div>"
      ],
      "text/plain": [
       "                 Open       High        Low      Close  Adj Close   Volume\n",
       "Date                                                                      \n",
       "2010-01-04  75.870003  76.949997  75.519997  76.849998  53.261395  2408300\n",
       "2010-01-05  76.620003  77.790001  76.550003  77.650002  53.815838  2356500\n",
       "2010-01-06  76.099998  77.190002  75.849998  76.510002  53.025768  5208100\n",
       "2010-01-07  76.169998  76.199997  73.610001  74.410004  51.570324  7038300\n",
       "2010-01-08  74.349998  75.940002  74.320000  75.610001  52.402020  3629400"
      ]
     },
     "execution_count": 97,
     "metadata": {},
     "output_type": "execute_result"
    }
   ],
   "source": [
    "# input\n",
    "symbol = 'gd'\n",
    "start = '2010-01-02'\n",
    "end = '2020-12-31'\n",
    "\n",
    "# Read data \n",
    "dataset = yf.download(symbol,start,end)\n",
    "\n",
    "# View Data\n",
    "dataset.head()\n",
    "\n",
    "# View Columns\n",
    "data.head()"
   ]
  },
  {
   "cell_type": "code",
   "execution_count": 98,
   "metadata": {},
   "outputs": [
    {
     "data": {
      "text/html": [
       "<div>\n",
       "<style scoped>\n",
       "    .dataframe tbody tr th:only-of-type {\n",
       "        vertical-align: middle;\n",
       "    }\n",
       "\n",
       "    .dataframe tbody tr th {\n",
       "        vertical-align: top;\n",
       "    }\n",
       "\n",
       "    .dataframe thead th {\n",
       "        text-align: right;\n",
       "    }\n",
       "</style>\n",
       "<table border=\"1\" class=\"dataframe\">\n",
       "  <thead>\n",
       "    <tr style=\"text-align: right;\">\n",
       "      <th></th>\n",
       "      <th>Open</th>\n",
       "      <th>High</th>\n",
       "      <th>Low</th>\n",
       "      <th>Close</th>\n",
       "      <th>Adj Close</th>\n",
       "      <th>Volume</th>\n",
       "    </tr>\n",
       "    <tr>\n",
       "      <th>Date</th>\n",
       "      <th></th>\n",
       "      <th></th>\n",
       "      <th></th>\n",
       "      <th></th>\n",
       "      <th></th>\n",
       "      <th></th>\n",
       "    </tr>\n",
       "  </thead>\n",
       "  <tbody>\n",
       "    <tr>\n",
       "      <th>2020-12-23</th>\n",
       "      <td>147.360001</td>\n",
       "      <td>149.399994</td>\n",
       "      <td>147.000000</td>\n",
       "      <td>148.149994</td>\n",
       "      <td>148.149994</td>\n",
       "      <td>1113800</td>\n",
       "    </tr>\n",
       "    <tr>\n",
       "      <th>2020-12-24</th>\n",
       "      <td>148.339996</td>\n",
       "      <td>149.149994</td>\n",
       "      <td>147.600006</td>\n",
       "      <td>149.009995</td>\n",
       "      <td>149.009995</td>\n",
       "      <td>447400</td>\n",
       "    </tr>\n",
       "    <tr>\n",
       "      <th>2020-12-28</th>\n",
       "      <td>149.199997</td>\n",
       "      <td>150.490005</td>\n",
       "      <td>148.360001</td>\n",
       "      <td>148.720001</td>\n",
       "      <td>148.720001</td>\n",
       "      <td>777900</td>\n",
       "    </tr>\n",
       "    <tr>\n",
       "      <th>2020-12-29</th>\n",
       "      <td>149.779999</td>\n",
       "      <td>149.779999</td>\n",
       "      <td>146.389999</td>\n",
       "      <td>147.550003</td>\n",
       "      <td>147.550003</td>\n",
       "      <td>1105300</td>\n",
       "    </tr>\n",
       "    <tr>\n",
       "      <th>2020-12-30</th>\n",
       "      <td>147.490005</td>\n",
       "      <td>149.410004</td>\n",
       "      <td>147.479996</td>\n",
       "      <td>148.300003</td>\n",
       "      <td>148.300003</td>\n",
       "      <td>995800</td>\n",
       "    </tr>\n",
       "  </tbody>\n",
       "</table>\n",
       "</div>"
      ],
      "text/plain": [
       "                  Open        High         Low       Close   Adj Close  \\\n",
       "Date                                                                     \n",
       "2020-12-23  147.360001  149.399994  147.000000  148.149994  148.149994   \n",
       "2020-12-24  148.339996  149.149994  147.600006  149.009995  149.009995   \n",
       "2020-12-28  149.199997  150.490005  148.360001  148.720001  148.720001   \n",
       "2020-12-29  149.779999  149.779999  146.389999  147.550003  147.550003   \n",
       "2020-12-30  147.490005  149.410004  147.479996  148.300003  148.300003   \n",
       "\n",
       "             Volume  \n",
       "Date                 \n",
       "2020-12-23  1113800  \n",
       "2020-12-24   447400  \n",
       "2020-12-28   777900  \n",
       "2020-12-29  1105300  \n",
       "2020-12-30   995800  "
      ]
     },
     "execution_count": 98,
     "metadata": {},
     "output_type": "execute_result"
    }
   ],
   "source": [
    "dataset.tail()"
   ]
  },
  {
   "cell_type": "code",
   "execution_count": 99,
   "metadata": {},
   "outputs": [
    {
     "data": {
      "image/png": "[encoded data removed]",
      "text/plain": [
       "<Figure size 1600x800 with 1 Axes>"
      ]
     },
     "metadata": {},
     "output_type": "display_data"
    }
   ],
   "source": [
    "plt.figure(figsize=(16,8))\n",
    "plt.plot(dataset['Adj Close'])\n",
    "plt.title('General Dynamics Closing Price Chart')\n",
    "plt.xlabel('Date')\n",
    "plt.ylabel('Price')\n",
    "plt.grid(True)\n",
    "plt.show() "
   ]
  },
  {
   "cell_type": "code",
   "execution_count": 100,
   "metadata": {},
   "outputs": [
    {
     "data": {
      "image/png": "[encoded data removed]",
      "text/plain": [
       "<Figure size 1000x500 with 1 Axes>"
      ]
     },
     "metadata": {},
     "output_type": "display_data"
    }
   ],
   "source": [
    "colors = yearly.ReturnsPositive.map({True: 'g', False: 'r'})\n",
    "plt.figure(figsize=(10,5))\n",
    "plt.bar(yearly['Years'], yearly['Returns'], color=colors, align='center')\n",
    "plt.plot(yearly_returns_avg, marker='o', color='b')\n",
    "plt.title('General Dynamics Yearly Returns')\n",
    "plt.xlabel('Date')\n",
    "plt.ylabel('Returns')\n",
    "plt.savefig('stanalysis\\static\\GD_Yearly_Returns_Chart.png')\n",
    "plt.show()"
   ]
  },
  {
   "cell_type": "markdown",
   "metadata": {},
   "source": [
    "# Plot 2020 only¶"
   ]
  },
  {
   "cell_type": "code",
   "execution_count": 93,
   "metadata": {},
   "outputs": [
    {
     "ename": "NameError",
     "evalue": "name 'df' is not defined",
     "output_type": "error",
     "traceback": [
      "\u001b[1;31m---------------------------------------------------------------------------\u001b[0m",
      "\u001b[1;31mNameError\u001b[0m                                 Traceback (most recent call last)",
      "\u001b[1;32m<ipython-input-93-ab8127250d8e>\u001b[0m in \u001b[0;36m<module>\u001b[1;34m\u001b[0m\n\u001b[1;32m----> 1\u001b[1;33m \u001b[0mnew_dates\u001b[0m \u001b[1;33m=\u001b[0m \u001b[0mdf\u001b[0m\u001b[1;33m[\u001b[0m\u001b[1;34m'2020-01-01'\u001b[0m\u001b[1;33m:\u001b[0m\u001b[1;34m'2020-12-31'\u001b[0m\u001b[1;33m]\u001b[0m\u001b[1;33m\u001b[0m\u001b[1;33m\u001b[0m\u001b[0m\n\u001b[0m\u001b[0;32m      2\u001b[0m \u001b[0mnew_dates\u001b[0m\u001b[1;33m.\u001b[0m\u001b[0mhead\u001b[0m\u001b[1;33m(\u001b[0m\u001b[1;33m)\u001b[0m\u001b[1;33m\u001b[0m\u001b[1;33m\u001b[0m\u001b[0m\n",
      "\u001b[1;31mNameError\u001b[0m: name 'df' is not defined"
     ]
    }
   ],
   "source": [
    "new_dates = df['2020-01-01':'2020-12-31']\n",
    "new_dates.head()"
   ]
  },
  {
   "cell_type": "code",
   "execution_count": null,
   "metadata": {},
   "outputs": [],
   "source": [
    "plt.figure(figsize=(16,10))\n",
    "plt.plot(new_dates['Adj Close'], label='Price')\n",
    "plt.plot(new_dates['SMA_20'], label = '20-days SMA')\n",
    "plt.plot(new_dates['SMA_40'], label = '40-days SMA')\n",
    "plt.plot(new_dates['SMA_80'], label = '80-days SMA')\n",
    "plt.legend(loc='best')\n",
    "plt.grid(True)\n",
    "plt.ylabel('Price')\n",
    "plt.xlabel('Dates')\n",
    "plt.title('Stock Moving Average Trading Strategy')"
   ]
  },
  {
   "cell_type": "code",
   "execution_count": null,
   "metadata": {},
   "outputs": [],
   "source": [
    "plt.figure(figsize=(16,10))\n",
    "plt.plot_date(x=new_dates.index ,y=new_dates['Adj Close'], label='Price')\n",
    "plt.plot(new_dates['SMA_20'], label = '20-days SMA')\n",
    "plt.plot(new_dates['SMA_40'], label = '40-days SMA')\n",
    "plt.plot(new_dates['SMA_80'], label = '80-days SMA')\n",
    "plt.legend(loc='best')\n",
    "plt.grid(True)\n",
    "plt.ylabel('Price')\n",
    "plt.xlabel('Dates')\n",
    "plt.title('Stock Moving Average Trading Strategy')"
   ]
  },
  {
   "cell_type": "markdown",
   "metadata": {},
   "source": [
    "# Consolidated Portfolio Analysis"
   ]
  },
  {
   "cell_type": "code",
   "execution_count": null,
   "metadata": {},
   "outputs": [],
   "source": [
    "BA = yf.download('BA', start= '2019-01-01', end ='2020-12-31')\n",
    "LockheedMartin = yf.download('LMT', start= '2019-01-01', end ='2020-12-31')\n",
    "NorthernGrumman = yf.download('NOC', start= '2019-01-01', end ='2020-12-31')\n",
    "Ratheontech = yf.download('RTX', start= '2019-01-01', end ='2020-12-31')\n",
    "leguard = yf.download('LGRVF', start= '2019-01-01', end ='2020-12-31')\n",
    "GeneralDynamics = yf.download('GD', start= '2019-01-01', end ='2020-12-31')"
   ]
  },
  {
   "cell_type": "code",
   "execution_count": null,
   "metadata": {},
   "outputs": [],
   "source": [
    "[boeing.head (), lockheed.head(), northerngrumman.head(),ratheontech.head(),leguard.head(),generaldynamics.head()]"
   ]
  },
  {
   "cell_type": "code",
   "execution_count": null,
   "metadata": {},
   "outputs": [],
   "source": [
    "# Saving individual stock data in csv files (to be determined if necessary/not currently created)\n",
    "boeing.to_csv('Data/boeing.csv', index= False)\n",
    "lockheed.to_csv('Data/lockheed.csv', index = False)\n",
    "northerngrumman.to_csv('Data/northerngrumman.csv', index = False)\n",
    "ratheontech.to_csv('Data/ratheontech.csv', index = False)\n",
    "leguard.to_csv('Data/leguard.csv', index = False)\n",
    "generadynamics.to_csv('Data/generaldynamic.csv', index = False)"
   ]
  },
  {
   "cell_type": "code",
   "execution_count": null,
   "metadata": {},
   "outputs": [],
   "source": [
    "df = pd.DataFrame()\n",
    "for s in symbols:\n",
    "    df[s] = yf.download(s,start,end)['Adj Close']"
   ]
  },
  {
   "cell_type": "code",
   "execution_count": null,
   "metadata": {},
   "outputs": [],
   "source": [
    "objects = [ge, boeing,lockheed,ratheontech,leguard,generaldynamics]\n",
    "for obj in objects:   obj.reset_index(inplace = True)"
   ]
  },
  {
   "cell_type": "code",
   "execution_count": null,
   "metadata": {},
   "outputs": [],
   "source": [
    "objects = [boeing,lockheed,northerngrumman,ratheontech,leguard,generaldynamics]\n",
    "all_data = pd.DataFrame(date)\n",
    "for obj in objects:\n",
    "    all_data = pd.merge(left = all_data, right = obj, how = 'inner', on = 'Date')"
   ]
  },
  {
   "cell_type": "code",
   "execution_count": null,
   "metadata": {},
   "outputs": [],
   "source": [
    "cols = all_data.columns\n",
    "cols"
   ]
  },
  {
   "cell_type": "code",
   "execution_count": null,
   "metadata": {},
   "outputs": [],
   "source": []
  },
  {
   "cell_type": "code",
   "execution_count": null,
   "metadata": {},
   "outputs": [],
   "source": [
    "new_cols= ['Date','Open_ge', 'High_ge', 'Low_ge', 'Close_ge', 'Adj_Close_ge', 'Volume_ge',\n",
    "           'Open_boeing', 'High_boeing', 'Low_boeing', 'Close_boeing', 'Adj_Close_boeing', 'Volume_boeing',\n",
    "           'Open_lockheed', 'High_lockheed', 'Low_lockheed', 'Close_lockheed', 'Adj_Close_lockheed', 'Volume_lockheed',\n",
    "           'Open_ratheontech', 'High_ratheontech', 'Low_ratheontech', 'Close_ratheontech', 'Adj_Close_ratheontech', 'Volume_ratheontech',\n",
    "           'Open_leguard', 'High_leguard', 'Low_leguard', 'Close_leguard', 'Adj_Close_leguard', 'Volume_leguard',\n",
    "           'Open_honeywell', 'High_honeywell', 'Low_honeywell', 'Close_honeywell', 'Adj_Close_honeywell', 'Volume_honeywell']"
   ]
  },
  {
   "cell_type": "code",
   "execution_count": null,
   "metadata": {},
   "outputs": [],
   "source": [
    "all_data.head()"
   ]
  },
  {
   "cell_type": "code",
   "execution_count": null,
   "metadata": {},
   "outputs": [],
   "source": [
    "all_data.shape"
   ]
  },
  {
   "cell_type": "markdown",
   "metadata": {},
   "source": [
    "# Portfolio Analysis"
   ]
  },
  {
   "cell_type": "code",
   "execution_count": null,
   "metadata": {},
   "outputs": [],
   "source": [
    "# input\n",
    "# Aerospace and Defense  \n",
    "symbols = ['BA',\"LMT','NOC','RTX,'GD']\n",
    "start = '2019-01-01'\n",
    "end = '2020-04-24'"
   ]
  },
  {
   "cell_type": "code",
   "execution_count": null,
   "metadata": {},
   "outputs": [],
   "source": [
    "# Importing datetime for setting start and end date of the stock market dataset\n",
    "\n",
    "today = dt.today().strftime('%Y-%m-%d')\n",
    "start = dt(2018,1,1).strftime('%Y-%m-%d')\n",
    "stocks = web.DataReader(['GE',],\n",
    "               data_source='yahoo',\n",
    "               start=start,\n",
    "               end=today)"
   ]
  },
  {
   "cell_type": "code",
   "execution_count": null,
   "metadata": {},
   "outputs": [],
   "source": [
    "today = dt.today().strftime('%Y-%m-%d')\n",
    "start = dt(2017,1,1).strftime('%Y-%m-%d')\n",
    "stocks = web.DataReader(['GE','BA','LMT','RTX','LGRVF','HON',],\n",
    "               data_source='yahoo',\n",
    "               start=start,\n",
    "               end=today)"
   ]
  },
  {
   "cell_type": "code",
   "execution_count": null,
   "metadata": {},
   "outputs": [],
   "source": [
    "# Plotting Historical Closing price for GE and its primary competitors\n",
    "def plotStocks(stocks):\n",
    "    \"\"\"Stock plotting function. The portfolio is drawn thicker\"\"\"\n",
    "    lw = 0.5\n",
    "    names = stocks.columns.values\n",
    "    plt.figure(figsize=(20,10))\n",
    "    for name in names:\n",
    "        price = stocks[name]\n",
    "        if name == 'portfolio':\n",
    "            lw = 4\n",
    "        else:\n",
    "            lw = 0.5\n",
    "        plt.plot(stocks[name],label = name,linewidth = lw) \n",
    "        \n",
    "    plt.legend()\n",
    "\n",
    "closing = stocks['Adj Close']\n",
    "plotStocks(closing)"
   ]
  },
  {
   "cell_type": "code",
   "execution_count": null,
   "metadata": {},
   "outputs": [],
   "source": [
    "#RELATIVE VALUE ANALYSIS -Instead lets look at the relative change between prices (with all stocks staring at a value of 1).\n",
    "returns = closing/closing.iloc[0,:]\n",
    "plotStocks(returns)"
   ]
  },
  {
   "cell_type": "code",
   "execution_count": null,
   "metadata": {},
   "outputs": [],
   "source": [
    "# RELATIVE VALUE ANALYSIS vs Market (Bold Line). See the relative change between prices (with all stocks staring at a value of 1).Suppose we have a portfolio which is the sum of all stocks\n",
    "# Once again portfolio = portfolio/portfolio[0] (capture relative movement)\n",
    "portfolio = closing.sum(axis=1)\n",
    "portfolio = portfolio/portfolio[0]\n",
    "returns['portfolio'] = portfolio\n",
    "plotStocks(returns)"
   ]
  },
  {
   "cell_type": "code",
   "execution_count": null,
   "metadata": {},
   "outputs": [],
   "source": [
    "today = dt.today().strftime('%Y-%m-%d')\n",
    "start = dt(2017,1,1).strftime('%Y-%m-%d')\n",
    "stocks = web.DataReader(['GE','BA','LMT','RTX','LGRVF','HON',],\n",
    "               data_source='yahoo',\n",
    "               start=start,\n",
    "               end=today)"
   ]
  },
  {
   "cell_type": "code",
   "execution_count": null,
   "metadata": {},
   "outputs": [],
   "source": [
    "#calculating volatility of stocks and the portfolio\n",
    "    \n",
    "def computeVolatility(returns):\n",
    "    perDailyChange = returns.pct_change() #percentage daily change\n",
    "    logReturns = np.log(perDailyChange+1)\n",
    "    volatility = logReturns.std()*np.sqrt(252)\n",
    "    return volatility\n",
    "\n",
    "computeVolatility(returns)\n",
    "#So buying all stocks results in a portfolio lowers the  volatitlity making for a safer investment."
   ]
  },
  {
   "cell_type": "code",
   "execution_count": null,
   "metadata": {},
   "outputs": [],
   "source": [
    "import seaborn as sns"
   ]
  },
  {
   "cell_type": "code",
   "execution_count": null,
   "metadata": {},
   "outputs": [],
   "source": [
    "logReturns = np.log(returns.pct_change()+1)\n",
    "logReturnsCorr = logReturns.iloc[1:,0:-1].corr()\n",
    "plt.figure(figsize=(8,8))\n",
    "sns.heatmap(logReturnsCorr,annot=True);\n",
    "\n",
    "#legrand (LGRVF) has the weakest correlation to the other 5 companies, due to its high variance"
   ]
  },
  {
   "cell_type": "code",
   "execution_count": null,
   "metadata": {},
   "outputs": [],
   "source": [
    "#We can use the bootstrap method to take random samples of all stocks in our portfolio and aggregate\n",
    "def bootstrap(stockLogReturns,nsims,periods,weights): \n",
    "    prfAvgReturn = logReturns.iloc[:,0:-1].dropna()\n",
    "    prfAvgReturn = (prfAvgReturn*weights).mean(axis=1)\n",
    "    bootstrap = np.empty(shape = (periods,nsims))\n",
    "    for i in range(nsims):\n",
    "        samp = np.random.choice(prfAvgReturn,periods)\n",
    "        bootstrap[:,i] = samp\n",
    "\n",
    "    bootstrap = 1+(pd.DataFrame(bootstrap).shift(1).fillna(0))\n",
    "    return bootstrap.cumprod(axis=0)\n",
    "    \n",
    "#portfolio\n",
    "stockLogReturns = logReturns.iloc[1:,0:-1]\n",
    "plotStocks(stockLogReturns)\n",
    "plt.title('Log returns',fontsize=20);"
   ]
  },
  {
   "cell_type": "code",
   "execution_count": null,
   "metadata": {},
   "outputs": [],
   "source": [
    "#Instead of simply buying all stocks, suppose we only choose to buy certain quantities of each\n",
    "# let theese be weight which sum to 1\n",
    "\n",
    "num_stocks = returns.shape[1]-1\n",
    "nfolios = 10000\n",
    "performance = np.empty(shape=(nfolios,3))\n",
    "weights = np.empty(shape = (nfolios,num_stocks))\n",
    "for f in range(nfolios):\n",
    "    w = np.random.uniform(size=num_stocks)\n",
    "    w = w/w.sum()\n",
    "    portfolio = (returns.iloc[:,0:-1]*w).sum(axis=1)\n",
    "    portfolioLogReturn = np.log(portfolio.pct_change()+1)\n",
    "    volatility = portfolioLogReturn.std()*np.sqrt(252)\n",
    "    annualizedReturn = (portfolioLogReturn.mean()+1)**252 - 1\n",
    "    sharpe = annualizedReturn/volatility\n",
    "    entry = np.array([annualizedReturn,volatility,sharpe])\n",
    "    #store metrics\n",
    "    performance[f,:] = entry\n",
    "    #store weights\n",
    "    weights[f,:] = w"
   ]
  },
  {
   "cell_type": "code",
   "execution_count": null,
   "metadata": {},
   "outputs": [],
   "source": [
    "performance[0:10,:]"
   ]
  },
  {
   "cell_type": "code",
   "execution_count": null,
   "metadata": {},
   "outputs": [],
   "source": [
    "portfolios = pd.DataFrame(performance,columns=['Return','Risk','Sharpe'])\n",
    "maxsharpe = np.where(portfolios.Sharpe == portfolios.Sharpe.max())\n",
    "\n",
    "# maximum sharpe ratio portfolio\n",
    "best = portfolios.iloc[maxsharpe[0][0],:]\n",
    "optimalWeights = weights[maxsharpe[0][0],:]\n",
    "\n",
    "print('best portfolio: \\n',best,'\\n')\n",
    "print('optimal weights \\n',optimalWeights)"
   ]
  },
  {
   "cell_type": "markdown",
   "metadata": {},
   "source": [
    "In finance, the efficient frontier is the set of optimal portfolios that offer the highest expected return for a defined level of risk or the lowest risk for a given level of expected return. Portfolios that lie below the efficient frontier are sub-optimal because they do not provide enough return for the level of risk. Portfolios that cluster to the right of the efficient frontier are sub-optimal because they have a higher level of risk for the defined rate of return."
   ]
  },
  {
   "cell_type": "code",
   "execution_count": null,
   "metadata": {},
   "outputs": [],
   "source": [
    "plt.figure(figsize=(15,10))\n",
    "plt.scatter(x=portfolios.Risk,y=portfolios.Return,\n",
    "            c=portfolios.Sharpe,s=20,alpha=1,\n",
    "            cmap='RdYlBu')\n",
    "plt.colorbar()\n",
    "plt.title('Markowitz Efficient Frontier and Sharpe ratio',fontsize=14)\n",
    "plt.annotate('Max sharpe',(best.Risk,best.Return),fontsize=8)\n",
    "plt.xlabel('Volatility')\n",
    "plt.ylabel('Return');"
   ]
  },
  {
   "cell_type": "markdown",
   "metadata": {},
   "source": [
    "In finance, the Sharpe ratio (or reward-to-variability ratio) measures the performance of an investment (e.g., a security or portfolio) compared to a risk-free asset, after adjusting for its risk. It is defined as the difference between the returns of the investment and the risk-free return divided by the standard deviation of the investment (i.e., its volatility). It represents the additional amount of return that an investor receives per unit of increase in risk."
   ]
  },
  {
   "cell_type": "code",
   "execution_count": null,
   "metadata": {},
   "outputs": [],
   "source": [
    "bestPortfolio = (returns.iloc[:,0:-1]*optimalWeights).sum(axis=1)\n",
    "returns['portfolio'] = bestPortfolio/bestPortfolio[0]\n",
    "plotStocks(returns)\n",
    "plt.title('Highest Sharpe Ratio portfolio',fontsize=20);"
   ]
  },
  {
   "cell_type": "code",
   "execution_count": null,
   "metadata": {},
   "outputs": [],
   "source": [
    "lowess = sm.nonparametric.lowess(exog=stockWeights.GE,endog=portfolios.Sharpe)\n",
    "weights.shape\n",
    "returns.iloc[:,0:-1].columns.values\n",
    "stockWeights = pd.DataFrame(weights,columns = \n",
    "                           returns.iloc[:,0:-1].columns.values)\n",
    "\n",
    "plt.figure(figsize=(20,10))\n",
    "plt.scatter(x=stockWeights.TSLA,y=portfolios.Sharpe,alpha=0.1,color='blue')\n",
    "plt.plot(lowess[:,0],lowess[:,1],color='lime',linewidth=3)\n",
    "plt.xlabel('Weight');\n",
    "plt.ylabel('Sharpe');\n",
    "plt.title('GE Sharpe ratio vs Weight',fontsize=18)\n",
    "\n",
    "#We can also plot Sharpe ratio against weight of GE stock."
   ]
  },
  {
   "cell_type": "code",
   "execution_count": null,
   "metadata": {},
   "outputs": [],
   "source": [
    "bs = bootstrap(stockLogReturns,1000,100,weights=optimalWeights)\n",
    "qs = [0.05,0.5,0.95]\n",
    "quantiles = bs.quantile(qs,axis=1)\n",
    "\n",
    "plt.figure(figsize=(20,10))\n",
    "plt.plot(bs,color = 'blue',alpha=0.06);\n",
    "for q in range(3):\n",
    "    plt.plot(quantiles.iloc[q,:],label=str(qs[q])+' quantile',linewidth=4);\n",
    "plt.legend(fontsize = 14)\n",
    "plt.title('Highest sharpe ratio portfolio bootstrap 1000 simulations',fontsize=20);\n",
    "plt.hlines(1,0,100);"
   ]
  },
  {
   "cell_type": "code",
   "execution_count": null,
   "metadata": {},
   "outputs": [],
   "source": [
    "import pandas as pd\n",
    "import numpy as np\n",
    "import matplotlib.pyplot as plt\n",
    "plt.style.use('seaborn-muted')\n",
    "import pandas_datareader.data as web\n",
    "from datetime import datetime as dt\n",
    "import statsmodels.api as sm"
   ]
  },
  {
   "cell_type": "code",
   "execution_count": null,
   "metadata": {},
   "outputs": [],
   "source": [
    "import yfinance as yf"
   ]
  },
  {
   "cell_type": "code",
   "execution_count": null,
   "metadata": {},
   "outputs": [],
   "source": [
    "tickers = ['GE','^HON']\n",
    "\n",
    "sec_data = pd.DataFrame()\n",
    "\n",
    "for t in tickers :\n",
    "    sec_data[t] = wb.DataReader(t,'quandl','2018-1-1','2020-3-1')['AdjClose']"
   ]
  }
 ],
 "metadata": {
  "kernelspec": {
   "display_name": "Python 3",
   "language": "python",
   "name": "python3"
  },
  "language_info": {
   "codemirror_mode": {
    "name": "ipython",
    "version": 3
   },
   "file_extension": ".py",
   "mimetype": "text/x-python",
   "name": "python",
   "nbconvert_exporter": "python",
   "pygments_lexer": "ipython3",
   "version": "3.8.3"
  }
 },
 "nbformat": 4,
 "nbformat_minor": 4
}
