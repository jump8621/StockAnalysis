{
 "cells": [
  {
   "cell_type": "code",
   "execution_count": 4,
   "metadata": {},
   "outputs": [],
   "source": [
    "import sys\n",
    "# !{sys.executable} -m pip install ta\n",
    "\n",
    "import pandas as pd\n",
    "import requests\n",
    "from datetime import datetime\n",
    "from matplotlib import pyplot as plt\n",
    "import ta\n",
    "import os\n",
    "from scipy.stats import linregress\n",
    "from scipy.optimize import curve_fit\n",
    "from keys import rapid_key\n",
    "\n"
   ]
  },
  {
   "cell_type": "code",
   "execution_count": null,
   "metadata": {},
   "outputs": [],
   "source": []
  },
  {
   "cell_type": "code",
   "execution_count": null,
   "metadata": {},
   "outputs": [],
   "source": [
    "var unirest = require(\"unirest\");\n",
    "url = \"https://apidojo-yahoo-finance-v1.p.rapidapi.com/stock/v3/get-historical-data\"\n",
    "var req = unirest(\"GET\", );\n",
    "\n",
    "req.query({\n",
    "\t\"symbol\": \"TSLA\",\n",
    "\t\"region\": \"US\"\n",
    "});\n",
    "\n",
    "req.headers({\n",
    "\t\"x-rapidapi-key\": rapid_key,\n",
    "\t\"x-rapidapi-host\": \"apidojo-yahoo-finance-v1.p.rapidapi.com\",\n",
    "\t\"useQueryString\": true\n",
    "});\n",
    "\n",
    "\n",
    "# req.end(function (res) {\n",
    "# \tif (res.error) throw new Error(res.error);\n",
    "\n",
    "# \tconsole.log(res.body);\n",
    "# });\n"
   ]
  },
  {
   "cell_type": "code",
   "execution_count": null,
   "metadata": {},
   "outputs": [],
   "source": []
  }
 ],
 "metadata": {
  "kernelspec": {
   "display_name": "Python [conda env:PythonData] *",
   "language": "python",
   "name": "conda-env-PythonData-py"
  },
  "language_info": {
   "codemirror_mode": {
    "name": "ipython",
    "version": 3
   },
   "file_extension": ".py",
   "mimetype": "text/x-python",
   "name": "python",
   "nbconvert_exporter": "python",
   "pygments_lexer": "ipython3",
   "version": "3.6.10"
  }
 },
 "nbformat": 4,
 "nbformat_minor": 4
}
